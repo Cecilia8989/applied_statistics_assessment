{
 "cells": [
  {
   "cell_type": "markdown",
   "metadata": {},
   "source": [
    "# Applied Statistics - Tasks"
   ]
  },
  {
   "cell_type": "markdown",
   "metadata": {},
   "source": [
    "**Author: Cecilia Pastore**\n",
    "\n",
    "---"
   ]
  },
  {
   "cell_type": "markdown",
   "metadata": {},
   "source": [
    "<a id=\"0\"></a> <br>\n",
    " # Table of Contents  \n",
    " \n",
    "1. [Introduction to Tabular Playground Series - Nov 2021](#I)     \n",
    "    1. [Variable Describtions](#7) \n",
    "1. [Load and Glance at the Data](#2) \n",
    "1. [Missing Values](#3) \n",
    "1. [Create a Validation Set](#4)     \n",
    "    1. [Remove target column](#5) \n",
    "1. [Feature Scaling](#6)     \n",
    "1. [First Model](#8)     \n",
    "    1. [Evaluation Metrics for Training set](#9)     \n",
    "    1. [Evaluation Metrics for Validation set](#10)     \n",
    "    1. [First Submission](#11) \n",
    "1. [Selecting Models](#12)       \n",
    "    1. [Helper Functions to Try New Models](#13)      \n",
    "    1. [Split to the Small Data for Evaluating Models Fast](#14)     \n",
    "    1. [ML Models](#15)         \n",
    "        1. [XGBoost](#16)             \n",
    "            1. [Training](#17)"
   ]
  },
  {
   "cell_type": "markdown",
   "metadata": {},
   "source": [
    "### **Introduction** <a class=\"anchor\" id=\"I\"></a>\n",
    "\n",
    "This Jupyter Notebook presents the work completed as part of the **Applied Statistics** module, a core component of the Higher Diploma in Science in Computing with Data Analytics program at Atlantic Technological University (ATU), Galway. \n",
    "\n",
    "Throughout this notebook, a range of statistical methods, including data visualization and hypothesis testing, are utilized to showcase the practical application of statistical concepts in the field of data analytics.\n",
    "\n",
    "The project is structured into several tasks, each addressing specific requirements and goals, with a detailed analysis and discussion of the results."
   ]
  },
  {
   "cell_type": "markdown",
   "metadata": {},
   "source": [
    "### **1. Import the needed library** <a class=\"anchor\" id=\"1\"></a>\n",
    "\n",
    "As the first step, we can import the libraries and packages that will be needed for this assignment. Here's a quick overview of what each of these libraries and modules is typically used for:\n",
    "\n",
    "1. **math**: Provides mathematical functions such as `sqrt()` for square root calculation, trigonometric functions, logarithms, etc [[1]](https://docs.python.org/3/library/math.html).\n",
    "\n",
    "2. **itertools**: Contains functions to work with iterators, such as generating permutations and combinations [[2]](https://docs.python.org/3/library/itertools.html).\n",
    "\n",
    "3. **random**: Provides functions for generating random numbers, shuffling, selecting random elements [[3]](https://docs.python.org/3/library/random.html).\n",
    "\n",
    "4. **numpy**: A powerful library for numerical operations, including array manipulation, mathematical functions, and random data generation [[4]](https://numpy.org/doc/stable/reference/index.html#reference).\n",
    "\n",
    "5. **matplotlib.pyplot**: A library for creating static, animated, and interactive visualizations in Python [[5]](https://matplotlib.org/stable/contents.html).\n",
    "\n",
    "6. **tabulate**: Provides functions to format and print data in a table format, useful for displaying results in a clean, readable way [[6]](https://pypi.org/project/tabulate/).\n",
    "\n",
    "7. **scipy.stats**: Contains a wide range of statistical functions, including probability distributions, statistical tests (like t-tests, ANOVA), and hypothesis testing [[7]](https://docs.scipy.org/doc/scipy/reference/stats.html).\n",
    "\n",
    "8. **statsmodels.api**: Provides tools for statistical modeling, including regression analysis, hypothesis testing, and other statistical techniques [[8]](https://www.statsmodels.org/).\n",
    "\n",
    "9. **seaborn**: Built on top of Matplotlib, Seaborn provides a high-level interface for statistical data visualization, making complex visualizations easier [[9]](https://seaborn.pydata.org/).\n",
    "\n",
    "10. **pandas**:A powerful library for data manipulation and analysis, particularly for working with structured data in tables (DataFrames) [[10]](https://pandas.pydata.org/pandas-docs/stable/).\n",
    "\n",
    "11. **scipy.stats.shapiro**:A specific function from SciPy for performing the Shapiro-Wilk test, a statistical test for checking the normality of data [[11]](https://docs.scipy.org/doc/scipy/reference/generated/scipy.stats.shapiro.html)"
   ]
  },
  {
   "cell_type": "code",
   "execution_count": 1,
   "metadata": {},
   "outputs": [],
   "source": [
    "# Importing necessary libraries for statistical analysis, numerical operations, and plotting\n",
    "\n",
    "# Mathematical functions from the standard library\n",
    "# Reference: https://docs.python.org/3/library/math.html\n",
    "import math\n",
    "\n",
    "# Permutations and combinations\n",
    "# Reference: https://docs.python.org/3/library/itertools.html\n",
    "import itertools\n",
    "\n",
    "# Random selections\n",
    "# Reference: https://docs.python.org/3/library/random.html\n",
    "import random\n",
    "\n",
    "# Numerical structures and operations\n",
    "# Reference: https://numpy.org/doc/stable/reference/index.html#reference\n",
    "import numpy as np\n",
    "\n",
    "# Plotting\n",
    "# Reference: https://matplotlib.org/stable/contents.html\n",
    "import matplotlib.pyplot as plt\n",
    "\n",
    "# Table formatting for displaying results in tabular form\n",
    "# Reference: https://pypi.org/project/tabulate/\n",
    "from tabulate import tabulate\n",
    "\n",
    "# Statistical functions from SciPy\n",
    "# Reference: https://docs.scipy.org/doc/scipy/reference/stats.html\n",
    "import scipy.stats as stats\n",
    "\n",
    "# Statsmodels for statistical models and tests\n",
    "# Reference: https://www.statsmodels.org/\n",
    "import statsmodels.api as sm\n",
    "\n",
    "# Seaborn for advanced statistical data visualization\n",
    "# Reference: https://seaborn.pydata.org/\n",
    "import seaborn as sns\n",
    "\n",
    "# Pandas for data manipulation and analysis\n",
    "# Reference: https://pandas.pydata.org/pandas-docs/stable/\n",
    "import pandas as pd\n",
    "\n",
    "# The Shapiro-Wilk test for normality\n",
    "# Reference: https://docs.scipy.org/doc/scipy/reference/generated/scipy.stats.shapiro.html\n",
    "from scipy.stats import shapiro\n",
    "\n",
    "# Square root function from the math module\n",
    "# Reference: https://docs.python.org/3/library/math.html\n",
    "from math import sqrt"
   ]
  },
  {
   "cell_type": "markdown",
   "metadata": {},
   "source": [
    "### **2. Task 1: Permutations and Combinations** <a class=\"anchor\" id=\"2\"></a>\n",
    "<a class=\"anchor\" id=\"task-1-permutations-and-combinations\"></a>\n",
    "\n",
    "-----------"
   ]
  },
  {
   "cell_type": "markdown",
   "metadata": {},
   "source": [
    "<details>\n",
    "  <summary>Task assignement</summary>\n",
    "<br>\n",
    "\n",
    ">Suppose we alter the Lady Tasting Tea experiment to involve twelve cups of tea. Six have the milk in first and the other six having tea in first. A person claims they have the special power of being able to tell whether the tea or the milk went into a cup first upon tasting it. You agree to accept their claim if they can tell which of the six cups in your experiment had the milk in first.\n",
    ">\n",
    ">Calculate, using Python, the probability that they select the correct six cups. Here you should assume that they have no special powers in figuring it out, that they are just guessing. Remember to show and justify your workings in code and MarkDown cells.\n",
    ">\n",
    ">Suppose, now, you are willing to accept one error. Once they select the six cups they think had the milk in first, you will give them the benefit of the doubt should they have selected at least five of the correct cups. Calculate the probability, assuming they have no special powers, that the person makes at most one error.\n",
    ">\n",
    ">Would you accept two errors? Explain."
   ]
  },
  {
   "cell_type": "markdown",
   "metadata": {},
   "source": [
    "#### **2.1: The lady tasting tea experiment by Ronald Fisher - introduction** <a id=\"2_1\"></a>"
   ]
  },
  {
   "cell_type": "markdown",
   "metadata": {},
   "source": [
    "<div style=\"text-align:center;\">\n",
    " <img src=\"img\\Youngronaldfisher2.jpg\" width=\"300\">\n",
    "</div>\n",
    "\n",
    "<div style=\"text-align:center;\">\n",
    "  <a href=\"https://en.wikipedia.org/wiki/Lady_tasting_tea\"><i>[Fig. 1] - Ronald Fisher in 1913</i></a>\n",
    "</div>"
   ]
  },
  {
   "cell_type": "markdown",
   "metadata": {},
   "source": [
    "This task is inspired by **The Lady Tasting Tea** experiment by Ronald Fisher [[12]](https://www.irishtimes.com/news/science/how-a-tea-tasting-test-led-to-a-breakthrough-in-statistics-1.3998786). The experiment arose from a claim made by a lady named Muriel Bristol [[13]](https://en.wikipedia.org/wiki/Lady_tasting_tea), who asserted that she could tell whether milk or tea was added first to a cup. To test whether Muriel had special abilities, Fisher designed an experiment using 8 cups: 4 made with milk first and 4 with tea first, arranged randomly. Fisher aimed to test the **null hypothesis (H₀)**: that Muriel could not distinguish between the two methods, and any correct identification would be purely due to random chance.\n",
    "\n",
    "\n",
    "#### <span style=\"color: darkblue;\"> Total Possible Arrangements</span>\n",
    "\n",
    "In the **Lady Tasting Tea** experiment, the first step is to calculate the total number of ways to arrange the cups. There are 8 cups in total: 4 with milk added first, and 4 with tea added first. This is a **combination** problem because we are selecting which 4 of the 8 cups will have milk first, without considering the order in which the cups are arranged.\n",
    "\n",
    "The combination formula is:\n",
    "\n",
    "$$\n",
    "\\binom{n}{k} = \\frac{n!}{k!(n-k)!} \\quad \\text{and for } n = 8, k = 4, \\quad \\binom{8}{4} = \\frac{8!}{4!(8-4)!} = \\frac{8 \\times 7 \\times 6 \\times 5}{4 \\times 3 \\times 2 \\times 1} = 70\n",
    "$$\n",
    "\n",
    "So, there are **70 possible ways** to arrange the 8 cups with 4 cups of milk-first and 4 cups of tea-first.\n",
    "\n",
    "#### <span style=\"color: darkblue;\"> Testing the Null Hypothesis (H₀)</span>\n",
    "\n",
    "Fisher wanted to test whether Muriel's ability to correctly identify the cups was due to chance or if it was statistically significant. Under the **null hypothesis (H₀)**, we assume that Muriel cannot distinguish between the two methods, meaning her guesses are random. Therefore, the probability of guessing a milk-first cup correctly is:\n",
    "\n",
    "$$\n",
    "P(\\text{correct}) = \\frac{4}{8} = 0.5\n",
    "$$\n",
    "\n",
    "Since there are 4 cups with milk first and 4 cups with tea first, her chance of guessing correctly for each cup is 50%.\n",
    "\n",
    "#### <span style=\"color: darkblue;\"> Binomial Distribution</span>\n",
    "\n",
    "Now, the probability of Muriel making **k** correct guesses out of 4 can be calculated, assuming she is guessing randomly. To do this, fisher use the  **binomial distribution**, which models the probability of a certain number of successes (correct guesses) in a fixed number of independent trials (the 4 cups). The formula for the binomial distribution is:\n",
    "\n",
    "$$\n",
    "P(k) = \\binom{4}{k} \\left(\\frac{1}{2}\\right)^4\n",
    "$$\n",
    "\n",
    "Where:\n",
    "- $P(k)$ is the probability of Muriel making exactly $k$ correct guesses out of 4 cups,\n",
    "- $\\binom{4}{k}$ is the number of ways to choose $k$ correct cups from the 4,\n",
    "- $\\left( \\frac{1}{2} \\right)^4$ represents the probability of guessing correctly 4 times, since each guess has a 50% chance of being correct.\n",
    "\n",
    "The possible values for \\( k \\) are 0, 1, 2, 3, or 4, meaning we can calculate the probability of getting 0, 1, 2, 3, or 4 correct guesses out of 4.\n",
    "\n",
    "If we chose $k$ equal to 0 here the probability of chosing non of the correct cups in the example is: \n",
    "\n",
    "For example, the probability of guessing **0** correct cups is:\n",
    "\n",
    "$$\n",
    "P(0) = \\binom{4}{0} \\left(\\frac{1}{2}\\right)^4 = 1 \\times \\frac{1}{16} = 0.0625\n",
    "$$\n",
    "\n",
    "Similarly, we can calculate the probability for each value of $k$:\n",
    "\n",
    "- $(P(0) = 0.0625)$ - 6.25% chance of getting 0 correct guesses\n",
    "- $( P(1) = 0.25 )$ - 25% chance of getting 1 correct guess\n",
    "- $( P(2) = 0.375)$ - 37.5% chance of getting 2 correct guesses\n",
    "- $( P(3) = 0.25 )$ - 25% chance of getting 3 correct guesses\n",
    "- $( P(4) = 0.0625)$ - 6.25% chance of getting 4 correct guesses\n",
    "\n",
    "#### <span style=\"color: darkblue;\"> Conclusion</span>\n",
    "\n",
    "Based on Fisher's analysis, assuming the conventional probability criterion of less than 5%, the critical region for rejecting the null hypothesis of no ability to distinguish was the case of getting **4 correct guesses** out of 4. \n",
    "\n",
    "This represents the critical region because, under the null hypothesis of no ability to distinguish, the probability of obtaining 4 correct guesses is 1 out of 70 (approximately 1.4%, which is less than 5%). In contrast, the probability of achieving at least 3 correct guesses is (16 + 1) out of 70 (approximately 24.3%, which exceeds 5%) [[13]](https://en.wikipedia.org/wiki/Lady_tasting_tea).\n",
    "\n",
    "Thus, Fisher would reject the null hypothesis **only** if Muriel correctly identified all 8 cups. He would acknowledge her ability at a **1.4% significance level** (but without quantifying her actual ability).\n"
   ]
  },
  {
   "cell_type": "markdown",
   "metadata": {},
   "source": [
    "#### **2.2. Total Combinations and Probability Calculation for 12 Cups of Tea (6 with Milk First and 6 with Tea First)** <a id=\"2.1\"></a>."
   ]
  },
  {
   "cell_type": "markdown",
   "metadata": {},
   "source": [
    "#### <span style=\"color: darkblue;\">Introduction</span>\n",
    "\n",
    "Using the methodology from The Lady Tasting Tea experiment by Ronald Fisher, the assignment involves a group of 12 cups, with 6 of them having milk added first. The null hypothesis is that any correct identification of the cups would be purely due to random chance by the user. To calculate the probability of randomly selecting the 6 cups with milk first from the group of 12, we will follow these steps:\n",
    "\n",
    "1. **Calculate the total number of combinations:** Determine how many ways we can select 6 cups from the 12 available cups.\n",
    "2. **Label the cups:** Assign labels to the cups and convert them into a list.\n",
    "3. **Define the set of cups with milk added first:** Perform a random selection of 6 cups from the group, and label these as the cups with milk added first.\n",
    "4. **Check for overlap:** Compare each possible combination of 6 cups with the group of cups labeled as \"milk first\" to identify overlaps.\n",
    "5. **Calculate the probabilities:** calculate the probability of randomly selecting anywhere from 0 to 6 cups with milk first in a sample of 6 cups, given that 6 out of the total 12 cups contain milk first.\n",
    "\n",
    "\n",
    "#### <span style=\"color: darkblue;\">Calculate the total number of combinations</span>\n",
    "\n",
    "The first step is to determine the total number of combinations for selecting 6 cups out of 12.\n",
    "\n",
    "The following code defines the variables necessary to explore the problem: the total number of cups, the number of cups with milk added first, and the number of cups with tea added first."
   ]
  },
  {
   "cell_type": "code",
   "execution_count": 2,
   "metadata": {},
   "outputs": [],
   "source": [
    "# Number of cups of tea in total.\n",
    "n_cups = 12\n",
    "\n",
    "# Number of cups of tea with milk in first.\n",
    "n_cups_milk_first = 6\n",
    "\n",
    "# Number of cups of tea with tea in first.\n",
    "n_cups_tea_first = 6"
   ]
  },
  {
   "cell_type": "markdown",
   "metadata": {},
   "source": [
    "Next, we calculate the number of ways to select 6 cups from a total of 12 using the `math.comb formula` [[14]](https://docs.python.org/3/library/math.html#math.comb). This is a way of **calculating combinations**, which represents the number of ways we can choose 6 cups from 12 without regard to the order in which the cups are selected."
   ]
  },
  {
   "cell_type": "code",
   "execution_count": 3,
   "metadata": {},
   "outputs": [
    {
     "data": {
      "text/plain": [
       "924"
      ]
     },
     "execution_count": 3,
     "metadata": {},
     "output_type": "execute_result"
    }
   ],
   "source": [
    "# Number of ways of selecting four cups from eight.\n",
    "ways = math.comb(n_cups, n_cups_milk_first)\n",
    "\n",
    "# Show.\n",
    "ways"
   ]
  },
  {
   "cell_type": "markdown",
   "metadata": {},
   "source": [
    "Based on the result, there are **924** possible **combinations** when selecting 6 cups from a group of 12."
   ]
  },
  {
   "cell_type": "markdown",
   "metadata": {},
   "source": [
    "#### <span style=\"color: darkblue;\">Label the cups</span>\n",
    "\n",
    "The next step is to **label each cup in the group**.\n",
    "\n",
    "he following code creates a list of labels for the cups based on the variable `n_cups`. The `range(n_cups)` [[15]](https://www.w3schools.com/python/ref_func_range.asp) generates a sequence of numbers starting from 0 up to n_cups - 1. This sequence is then converted into a list. As a result, you get a list of unique labels for each cup, with a total of 12 labels."
   ]
  },
  {
   "cell_type": "code",
   "execution_count": 4,
   "metadata": {},
   "outputs": [
    {
     "data": {
      "text/plain": [
       "[0, 1, 2, 3, 4, 5, 6, 7, 8, 9, 10, 11]"
      ]
     },
     "execution_count": 4,
     "metadata": {},
     "output_type": "execute_result"
    }
   ],
   "source": [
    "# The cup labels.\n",
    "labels = list(range(n_cups))\n",
    "\n",
    "# Show.\n",
    "labels"
   ]
  },
  {
   "cell_type": "markdown",
   "metadata": {},
   "source": [
    "#### <span style=\"color: darkblue;\">Define the set of cups with milk added first </span>\n",
    "\n",
    "Once the cups are labeled, we can simulate a **random selection of 6 cups** of tea that will be labeled as **cups of tea with milk first** from a total of 12. The selected cups are then converted into a set, which can be used for further calculations.\n",
    "\n",
    "The following code performs:\n",
    "1. It selects six random labels from a list called labels using `random.sample()` [[16]](https://docs.python.org/3/library/random.html#random.sample).\n",
    "2. It sorts the selected labels in place using the `sort()` [[17]](https://www.w3schools.com/python/ref_list_sort.asp) method.\n",
    "3. Finally, it converts the sorted list of labels into a set [[18]](https://docs.python.org/3/tutorial/datastructures.html#sets)"
   ]
  },
  {
   "cell_type": "code",
   "execution_count": 5,
   "metadata": {},
   "outputs": [],
   "source": [
    "# Select six cups at random to put milk in first.\n",
    "# https://docs.python.org/3/library/random.html#random.sample\n",
    "labels_milk = random.sample(labels, 6)\n",
    "\n",
    "# Sort, inplace.\n",
    "labels_milk.sort()"
   ]
  },
  {
   "cell_type": "code",
   "execution_count": 6,
   "metadata": {},
   "outputs": [
    {
     "data": {
      "text/plain": [
       "{0, 2, 3, 7, 10, 11}"
      ]
     },
     "execution_count": 6,
     "metadata": {},
     "output_type": "execute_result"
    }
   ],
   "source": [
    "# Turn labels_milk into a set.\n",
    "# Uses: https://docs.python.org/3/tutorial/datastructures.html#sets\n",
    "set(labels_milk)"
   ]
  },
  {
   "cell_type": "markdown",
   "metadata": {},
   "source": [
    "#### <span style=\"color: darkblue;\">Check for overlap </span> \n",
    "\n",
    "The next step is to compare all 924 possible combinations of 6 cups from a total of 12 with the predefined set <span style=\"color: darkred;\">labels_milk</span>, which contains the 6 cups labeled \"milk first.\" The goal is to determine how often the random selections overlap with the predefined \"milk first\" set.\n",
    "\n",
    "The following code is inspired by [ianmcloughlin_applied_statistics_lady_tasting_tea [19]](https://github.com/ianmcloughlin/2425_applied_statistics/blob/main/02_lady_tasting_tea.ipynb) and does the following:\n",
    "\n",
    "1. **Generate Combinations**: It creates all possible combinations of selecting 6 cups from a group of 12  using `itertools.combinations()` [[20]](https://docs.python.org/3/library/itertools.html). The total number of them, as previously calculated, will be 924.\n",
    "2. **Calculate Overlaps**: For each combination, it converts both the combination and labels_milk into sets, finds their [ intersection [21]](https://www.w3schools.com/python/ref_set_intersection.asp), and records the count of overlapping labels in the no_overlaps list.\n",
    "3. **Count Unique Overlaps**: It uses `np.unique()` [[22]](https://numpy.org/doc/2.0/reference/generated/numpy.unique.html) to count how many times each overlap occurs, providing a summary of the overlap frequencies.\n",
    "\n",
    "The **output** will be a two-dimensional array, stored in counts, that contains:\n",
    "\n",
    "1. The first array with the unique overlap counts.\n",
    "2. The second array with the corresponding counts of how many combinations had each overlap. \n",
    "\n",
    "In general, the more often an overlap count appears, the higher the probability of finding that specific number of cups with milk first."
   ]
  },
  {
   "cell_type": "code",
   "execution_count": 7,
   "metadata": {},
   "outputs": [
    {
     "data": {
      "text/plain": [
       "924"
      ]
     },
     "execution_count": 7,
     "metadata": {},
     "output_type": "execute_result"
    }
   ],
   "source": [
    "# Show the different ways of selecting no_cups_milk_first out of no_cups cups of tea.\n",
    "# https://docs.python.org/3/library/itertools.html\n",
    "combs = list(itertools.combinations(labels, n_cups_milk_first))\n",
    "# check that the total number of combiantions is 924\n",
    "len(combs)"
   ]
  },
  {
   "cell_type": "code",
   "execution_count": 9,
   "metadata": {},
   "outputs": [
    {
     "name": "stdout",
     "output_type": "stream",
     "text": [
      "(array([0, 1, 2, 3, 4, 5, 6]), array([  1,  36, 225, 400, 225,  36,   1], dtype=int64))\n"
     ]
    }
   ],
   "source": [
    "# Calculate the overlap between each element of combs and labels_milk.\n",
    "# https://github.com/ianmcloughlin/2425_applied_statistics/blob/main/02_lady_tasting_tea.ipynb\n",
    "\n",
    "# Initialize an empty list to store the overlap counts\n",
    "no_overlaps = []\n",
    "\n",
    "for comb in combs:\n",
    "  # Turn comb into a set.\n",
    "  s1 = set(comb)\n",
    "  # Turn labels_milk into a set.\n",
    "  s2 = set(labels_milk)\n",
    "  #  Find the intersection (common elements) between the two sets\n",
    "  # https://www.w3schools.com/python/ref_set_intersection.asp\n",
    "  overlap = s1.intersection(s2)\n",
    "  # Append the length of the overlap to the no_overlaps list\n",
    "  no_overlaps.append(len(overlap))\n",
    "  \n",
    "# Count the number of times each overlap occurs.\n",
    "counts = np.unique(no_overlaps, return_counts=True)\n",
    "\n",
    "# Print the results\n",
    "print(counts)"
   ]
  },
  {
   "cell_type": "markdown",
   "metadata": {},
   "source": [
    "To gain a clearer understanding of the results, we can visualize the overlapping distribution. A bar chart [[23]](https://how2matplotlib.com/how-to-annotate-bars-in-barplot-with-matplotlib.html), created using the library <span style=\"color: darkred;\">matplotlib.pyplot</span>, is used to display the frequency of overlap counts between combinations of cups and selected milk labels."
   ]
  },
  {
   "cell_type": "code",
   "execution_count": 10,
   "metadata": {},
   "outputs": [
    {
     "data": {
      "image/png": "[encoded data removed]",
      "text/plain": [
       "<Figure size 800x500 with 1 Axes>"
      ]
     },
     "metadata": {},
     "output_type": "display_data"
    }
   ],
   "source": [
    "# Plotting the Numberso of possible overlapping\n",
    "# source: https://how2matplotlib.com/how-to-annotate-bars-in-barplot-with-matplotlib.html\n",
    "\n",
    "\n",
    "# Create a figure.\n",
    "fig, ax = plt.subplots(figsize=(8, 5))\n",
    "\n",
    "# Bar chart with custom colors.\n",
    "bars = ax.bar(counts[0], counts[1], color='skyblue', edgecolor='black')\n",
    "\n",
    "# Add percentage labels above the bars.\n",
    "# https://realpython.com/python-zip-function/\n",
    "for bar, count in zip(bars, counts[1]):\n",
    "    ax.text(bar.get_x() + bar.get_width() / 2, bar.get_height(),\n",
    "            f'{count}', ha='center', va='bottom')  # Corrected this line\n",
    "\n",
    "# Add labels and title.\n",
    "ax.set_xlabel('Number of Overlaps', fontsize=12)\n",
    "ax.set_ylabel('Count', fontsize=12)\n",
    "ax.set_title('Distribution of Overlaps', fontsize=14)\n",
    "ax.set_xticks(counts[0])  # Ensure all x-tick labels are displayed\n",
    "ax.grid(axis='y', linestyle='--', alpha=0.7)  # Horizontal grid lines\n",
    "\n",
    "# Show the plot.\n",
    "plt.tight_layout()  # Optimize layout\n",
    "plt.show()"
   ]
  },
  {
   "cell_type": "markdown",
   "metadata": {},
   "source": [
    "According to the bar chart, there is **only one combination out of 924 different combinations to select all 6 cups with milk first from a total of 12. To select at least 5 cups with milk first, there are 36 additional combinations, resulting in a total of 37 possibilities (36 of selecting 2 cups + 1 of selecting 1 cup). This pattern continues for other overlap counts as well.\n",
    "\n",
    "#### <span style=\"color: darkblue;\">Calculate the probabilities </span>\n",
    "\n",
    "Finally, we can calculate the probability of selecting from 0 to 6 cups with milk first in a selection of 6 cups from a group of 12 cups, with exactly 6 cups containing milk first. In this context:\n",
    "\n",
    "- **0** means no cups with milk first are selected in the 6-cups sample out of 12.\n",
    "- **6** means all 6 cups with milk first are selected in the 6-cups sample the 6-cups sample out of 12.\n",
    "\n",
    "The probability of each possible outcome (ranging from 0 to 6 cups with milk first selected) is calculated by dividing the number of combinations for each outcome by the total number of combinations, which is 924 (the total number of ways to select 6 cups from 12).\n",
    "\n",
    "It is important to note that we need calculate and consider cumulative probability. For instance, if we want to know the probability of selecting at least 3 cups with milk first, this would be the sum of the probabilities of selecting 1 cup with milk first, 2 cups with milk first, and 3 cups with milk first.\n",
    "\n",
    "The following code:\n",
    "\n",
    "1. **Initializes an empty list**, selection_probability, to store the number of overlaps and their probabilities, along with a variable cumulative_overlapping set to 0.\n",
    "\n",
    "2. **Loops through the counts** of overlaps in reverse [[24]](https://www.w3schools.com/python/ref_func_reversed.asp) order:\n",
    "\n",
    "    - For each overlap count, it updates the cumulative overlap.\n",
    "    - It calculates the probability of selecting x cups with milk first by dividing the cumulative overlaps by the total number of combinations (ways).\n",
    "    - It appends the result to the selection_probability list.\n",
    "\n",
    "3. **Prepares the data** for tabulation [[25]]( https://pypi.org/project/tabulate/) [[26]](https://www.geeksforgeeks.org/printing-lists-as-tabular-data-in-python/) to display the cumulative probabilities more clearly using the tabulate function."
   ]
  },
  {
   "cell_type": "code",
   "execution_count": 18,
   "metadata": {},
   "outputs": [
    {
     "name": "stdout",
     "output_type": "stream",
     "text": [
      "================  ============================\n",
      "  Number of Cups    Cumulative Probability (%)\n",
      "================  ============================\n",
      "               6                          0.11\n",
      "               5                          4\n",
      "               4                         28.35\n",
      "               3                         71.65\n",
      "               2                         96\n",
      "               1                         99.89\n",
      "               0                        100\n",
      "================  ============================\n"
     ]
    }
   ],
   "source": [
    "# Calculate cumulative probabilities for each number of cups with milk to be randomly selected \n",
    "\n",
    "# Initialize an array to store the number of overlaps and their probabilities\n",
    "selection_probability = []\n",
    "cumulative_overlapping = 0\n",
    "number_of_cups = 6\n",
    "\n",
    "# Calculate probabilities and store results in reverse order\n",
    "# Source: https://www.w3schools.com/python/ref_func_reversed.asp\n",
    "for i in reversed(counts[1]):  # Loop through the array in reverse\n",
    "    cumulative_overlapping += i  # Update cumulative overlap count\n",
    "    probability_cups_with_milk = cumulative_overlapping / ways  # Calculate probability\n",
    "    selection_probability.append((number_of_cups, cumulative_overlapping, probability_cups_with_milk))  # Store as a tuple (count, probability)\n",
    "    number_of_cups -= 1  # Decrease the cup count\n",
    "\n",
    "# using tabulate to print the result in a readable format \n",
    "# https://pypi.org/project/tabulate/\n",
    "# https://www.geeksforgeeks.org/printing-lists-as-tabular-data-in-python/\n",
    "\n",
    "# Prepare data for tabulate\n",
    "headers = [\"Number of Cups\", \"Cumulative Probability (%)\"]\n",
    "table = [(num_cups, f\"{prob * 100:.2f}\") for num_cups, cum_overlaps, prob in selection_probability]\n",
    "\n",
    "# Print the results using tabulate\n",
    "print(tabulate(table, headers=headers, tablefmt=\"rst\"))\n"
   ]
  },
  {
   "cell_type": "markdown",
   "metadata": {},
   "source": [
    "As shown in the results, there is only a 0.11% chance of randomly selecting all 6 cups with milk first from a group of 12, without any specific capacity. However, if we allow for a possible error of 1, the probability of selecting **at least 5 cups with milk first increases to around 4%**. When considering the possibility of selecting at least 4 cups with milk first, the probability rises to 28.34%, providing a reasonable chance that a user, without any specific capacities, would mark this assumption as true.\n",
    "\n",
    "We can visulalize the result for a better understanding. "
   ]
  },
  {
   "cell_type": "code",
   "execution_count": 16,
   "metadata": {},
   "outputs": [
    {
     "data": {
      "image/png": "[encoded data removed]",
      "text/plain": [
       "<Figure size 640x480 with 1 Axes>"
      ]
     },
     "metadata": {},
     "output_type": "display_data"
    }
   ],
   "source": [
    "# Unpack the selection_probability list into separate lists\n",
    "num_cups_list, cumulative_overlaps, probabilities = zip(*selection_probability)\n",
    "\n",
    "# Convert probabilities to percentages for display purposes only (do not use for plotting)\n",
    "probabilities_percentage = [prob * 100 for prob in probabilities]\n",
    "\n",
    "# Plotting\n",
    "plt.plot(num_cups_list, probabilities_percentage)\n",
    "plt.title('Cumulative Probability of Selecting Cups with Milk')\n",
    "plt.xlabel('Number of Cups of milk first at least Selected')\n",
    "plt.ylabel('Cumulative Probability (%)')  # Update the ylabel to indicate percentage\n",
    "plt.xticks(num_cups_list)  # Set x-ticks to the number of cups\n",
    "plt.grid()\n",
    "plt.ylim(0, 100)  # Set y-axis limits to show percentage range\n",
    "plt.show()\n"
   ]
  },
  {
   "cell_type": "markdown",
   "metadata": {},
   "source": [
    "#### **2.3: Conclusion** <a id=\"2.3\"></a>"
   ]
  },
  {
   "cell_type": "markdown",
   "metadata": {},
   "source": [
    "\n",
    "**1. Hypothesis: We accept the claim of a special ability if the user can accurately identify which of cups in the experiment had milk added first**\n",
    "\n",
    "Considering the scenario where a user guesses, there is only a 0.11% probability of correctly identifying all 6 cups with milk first in a group of 12 (6 with milk first and 6 with tea first). If the user successfully identifies all 6 cups, we can confidently reject the null hypothesis that the person has no special ability to discern whether milk or tea was added first.\n",
    "\n",
    "**2. Hypothesis: We accept the claim of a special ability if the user can accurately identify at least 5 out of 6 cups with milk first in a group of 12 cups.**\n",
    "\n",
    "If we allow for one error in our hypothesis testing, the probability of guessing 5 or more cups correctly increases to about 4%. In many scientific fields, a common significance threshold is set at [0.05 (or 5%) [27]](https://www.scribbr.com/statistics/type-i-and-type-ii-errors/), indicating that a 5% chance of making a Type I error (rejecting a true null hypothesis) is generally considered acceptable.\n",
    "\n",
    "<span style=\"color: darkred;\">Therefore, I am inclined to reject the null hypothesis that any correct identification of the cups is purely due to random chance if the user correctly selects at least 5 cups with milk first out of the 6 chosen from a total of 12 cups, as this would provide sufficient evidence to support the claim of a special ability.</span>"
   ]
  },
  {
   "cell_type": "markdown",
   "metadata": {},
   "source": [
    "### **3. Task 2: numpy's Normal Distribution** <a class=\"anchor\" id=\"3\"></a>\n",
    "\n",
    "---"
   ]
  },
  {
   "cell_type": "markdown",
   "metadata": {},
   "source": [
    "<details>\n",
    "  <summary>Task assignement</summary>\n",
    "<br>\n",
    "\n",
    ">In this task you will assess whether numpy.random.normal() properly generates normal values. To begin, generate a sample of one hundred thousand values using the function with mean 10.0 and standard deviation 3.0.\n",
    ">\n",
    ">Use the scipy.stats.shapiro() function to test whether your sample came from a normal distribution. Explain the results and output.\n",
    ">\n",
    ">Plot a histogram of your values and plot the corresponding normal distribution probability density function on top of it."
   ]
  },
  {
   "cell_type": "markdown",
   "metadata": {},
   "source": [
    "##### **2.1: Generate a Random Distribution with Mean 10.0, Standard Deviation 3.0, and Compute the PDF** <a id=\"2.1\"></a>"
   ]
  },
  {
   "cell_type": "markdown",
   "metadata": {},
   "source": [
    "The following code generates a random sample of 5000 values from a normal distribution using the `numpy.random.normal function` [[28]](https://numpy.org/doc/2.0/reference/random/generated/numpy.random.normal.html). It works through the following steps:\n",
    "\n",
    "- Sets the random seed `np.random.seed(100)` [[29]](https://www.geeksforgeeks.org/random-seed-in-python/) to ensure that the random numbers generated are reproducible.\n",
    "- Defines the mean (mu = 10.0) and standard deviation (sigma = 0.3) of the normal distribution.\n",
    "- The function `np.random.normal(mu, sigma, 100000)` is called to generate 100.000 random values that follow the normal distribution with the defined mean and standard deviation.\n",
    "- The generated values are stored in the array s, which can then be used for further analysis or visualization.\n",
    "- The first ten value has then print for clarity"
   ]
  },
  {
   "cell_type": "code",
   "execution_count": 20,
   "metadata": {},
   "outputs": [
    {
     "name": "stdout",
     "output_type": "stream",
     "text": [
      "First 10 values of the generated sample 's':\n",
      "--------------------------------------------\n",
      "[10.14901425  9.95852071 10.19430656 10.45690896  9.92975399  9.92975891\n",
      " 10.47376384 10.23023042  9.85915768 10.16276801]\n"
     ]
    }
   ],
   "source": [
    "# Set the random seed for reproducibility\n",
    "np.random.seed(42)\n",
    "\n",
    "# Define the parameters of the normal distribution\n",
    "mu, sigma = 10.0, 0.3  # Mean (mu) and standard deviation (sigma)\n",
    "\n",
    "# Generate a random sample of size 5000 from the normal distribution\n",
    "# Ref: https://numpy.org/doc/2.0/reference/random/generated/numpy.random.normal.html\n",
    "s = np.random.normal(mu, sigma, 100000)\n",
    "\n",
    "# Print first 10 values of s distribution with better formatting\n",
    "print(\"First 10 values of the generated sample 's':\")\n",
    "print(\"--------------------------------------------\")\n",
    "print(s[:10])"
   ]
  },
  {
   "cell_type": "markdown",
   "metadata": {},
   "source": [
    "The mean, calculated using the function `numpy.mean()` [[30]](https://numpy.org/doc/stable/reference/generated/numpy.mean.html), and the standard deviation, calculated using the function `numpy.std()` [[31]](https://numpy.org/doc/stable/reference/generated/numpy.std.html), are computed from the randomly generated sample s to verify that these values match the initial parameters of the normal distribution."
   ]
  },
  {
   "cell_type": "code",
   "execution_count": 21,
   "metadata": {},
   "outputs": [
    {
     "name": "stdout",
     "output_type": "stream",
     "text": [
      "Calculated Mean (mu_s): 10.00\n",
      "Calculated Standard Deviation (sigma_s): 0.30\n"
     ]
    }
   ],
   "source": [
    "# Calculate the mean using numpy.mean() \n",
    "# Ref: https://numpy.org/doc/stable/reference/generated/numpy.mean.html\n",
    "mu_s = np.mean(s)\n",
    "\n",
    "# Calculate the standard deviation using numpy.std() \n",
    "# Ref: https://numpy.org/doc/stable/reference/generated/numpy.std.html\n",
    "sigma_s = np.std(s)\n",
    "\n",
    "# Print the calculated mean and standard deviation\n",
    "print(f\"Calculated Mean (mu_s): {mu_s:.2f}\")\n",
    "print(f\"Calculated Standard Deviation (sigma_s): {sigma_s:.2f}\")"
   ]
  },
  {
   "cell_type": "markdown",
   "metadata": {},
   "source": [
    "As seen from the printed results, the calculated mean and standard deviation closely match the initial parameters (mu = 10.0 and sigma = 0.3) used to generate the normal distribution.\n",
    "\n",
    "\n",
    "The following code, inspired by the [Applied Statistics course by Ian McLoughlin [32]](https://github.com/ianmcloughlin/2425_applied_statistics/blob/main/03_normal.ipynb), calculates the Probability Density Function (PDF) of a normal distribution for a sample s:\n",
    "\n",
    "- **Generating the Range of x Values**: The code first generates an array of x values that span from 5 standard deviations below the mean to 5 standard deviations above the mean using the `np.linspace()` function [[33]](https://numpy.org/doc/stable/reference/generated/numpy.linspace.htm). This wide range ensures the plot covers almost all of the distribution, in line with the 68-95-99 rule (approximately  99.7% data lies within 3 standard deviations of the mean, with nearly all data lying within 5 standard deviations) [[34]](https://www.tutorialspoint.com/show-the-68-95-99-7-rule-in-statistics-using-python).\n",
    "\n",
    "- **Defining the PDF Function**: A function is defined that takes in the x values, along with the mean and standard deviation of the distribution. This function uses the formula for the normal distribution to calculate the probability density at each value of x, effectively plotting the bell curve of the distribution.\n",
    "\n",
    "- **Calculating the PDF**: Finally, the function computes the corresponding PDF values for each x in the range, producing a distribution curve that represents the probability of different outcomes within the s sample."
   ]
  },
  {
   "cell_type": "code",
   "execution_count": 22,
   "metadata": {},
   "outputs": [],
   "source": [
    "# Create an array of x values for plotting the PDF, covering ±5 standard deviations\n",
    "#This ensure close to 100% of the normal distribution value will be in the x range.\n",
    "x = np.linspace(mu_s - 5*sigma_s, mu_s + 5*sigma_s, 5000)\n",
    "\n",
    "# Define the probability density function (PDF) for the normal distribution\n",
    "def f(x, mu_s, sigma_s):\n",
    "    # Calculate the normalization constant for the normal distribution\n",
    "    norm = 1.0 / (sigma * np.sqrt(2.0 * np.pi))\n",
    "    \n",
    "    # Calculate the PDF values at each x using the formula for the normal distribution\n",
    "    return norm * np.exp(-(x - mu)**2 / (2.0 * sigma**2))\n",
    "\n",
    "# Get the corresponding y values (PDF) for the x values using the normal distribution function\n",
    "pdf = f(x, mu, sigma)"
   ]
  },
  {
   "cell_type": "markdown",
   "metadata": {},
   "source": [
    "##### **2.2: Visualizing the Distribution: Histogram and Probability Density Function** <a id=\"2.2\"></a>"
   ]
  },
  {
   "cell_type": "markdown",
   "metadata": {},
   "source": [
    "To visualize a distribution effectively, we define a reusable function, `plot_normal_distribution()`, which creates a combined plot showing both the histogram of a sample (**s**) and the probability density function (**PDF**) of a normal distribution based on the sample's properties.\n",
    "\n",
    "Key Features:\n",
    "\n",
    "- **Input**: The function takes the sample data (s), an array of x values, the corresponding pdf values, and customizable colors for the histogram and PDF curve.\n",
    "- **Plotting**: The function uses matplotlib [[5]](https://matplotlib.org/) to plot the histogram of the sample with some transparency (using the alpha parameter) [[35]](https://www.learningaboutelectronics.com/Articles/How-to-change-the-transparency-of-a-graph-plot-in-matplotlib-with-Python.php#:~:text=Matplotlib%20allows%20you%20to%20adjust%20the%20transparency%20of,then%20you%20can%20make%20alpha%20greater%20than%201.), and overlays the normal distribution's PDF curve on top for comparison. \n",
    "- **Customization**: The plot includes a title, axis labels, gridlines, and a vertical line marking the mean (mu) of the distribution.\n",
    "\n",
    "The code is ispired by [Fitting a Normal distribution to 1D data [[36]](https://stackoverflow.com/questions/20011122/fitting-a-normal-distribution-to-1d-data)."
   ]
  },
  {
   "cell_type": "code",
   "execution_count": 25,
   "metadata": {},
   "outputs": [],
   "source": [
    "# Define a function to plot the histogram of the sample and the PDF of the normal distribution\n",
    "# The function takes in the sample data 's', the array of x values, the PDF values, and other customization parameters for the plot.\n",
    "def plot_normal_distribution(s, x, pdf, col_hist, col_pdf, title):\n",
    "    \n",
    "    # Set up the style for the plot\n",
    "    plt.style.use('seaborn-v0_8-darkgrid')\n",
    "\n",
    "    # Create a new figure with specified size\n",
    "    plt.figure(figsize=(10, 5))\n",
    "\n",
    "    # Plot the histogram of the sample with some transparency\n",
    "    plt.hist(s, bins=50, density=True, alpha=0.3, color=col_hist, edgecolor='black', label='Sample Histogram')\n",
    "\n",
    "    # Plot the normal distribution PDF on top of the histogram\n",
    "    plt.plot(x, pdf, color=col_pdf, linewidth=3, label='Normal Distribution PDF')\n",
    "\n",
    "    # Set the title and axis labels\n",
    "    plt.title(f'Histogram with PDF: {title}', fontsize=16)\n",
    "    plt.xlabel('Value', fontsize=14)\n",
    "    plt.ylabel('Density', fontsize=14)\n",
    "\n",
    "    # Add a legend to the plot\n",
    "    plt.legend(fontsize=12)\n",
    "\n",
    "    # Enable gridlines for better readability\n",
    "    plt.grid(True, linestyle='--', alpha=0.7)\n",
    "\n",
    "    # Draw a vertical line at the mean (mu)\n",
    "    plt.axvline(mu, color='green', linestyle='--', label='Mean', linewidth=2)\n",
    "\n",
    "    # Display the plot\n",
    "    plt.show()"
   ]
  },
  {
   "cell_type": "markdown",
   "metadata": {},
   "source": [
    "Now, we can use the previously defined function plot_normal_distribution() to visualize the distribution. The function takes the following arguments:\n",
    "\n",
    "- **s**: The sample data, generated using np.random.normal.\n",
    "- **x**: The range of x values over which the PDF is calculated.\n",
    "- **\"blue**\": The color used for the histogram.\n",
    "- **\"red\"**: The color used for the PDF curve.\n",
    "- **title**=\"manually calculated\": The title of the plot, indicating that the PDF was calculated by directly applying the mathematical formula."
   ]
  },
  {
   "cell_type": "code",
   "execution_count": 24,
   "metadata": {},
   "outputs": [
    {
     "data": {
      "image/png": "[encoded data removed]",
      "text/plain": [
       "<Figure size 1000x500 with 1 Axes>"
      ]
     },
     "metadata": {},
     "output_type": "display_data"
    }
   ],
   "source": [
    "# Call the function to plot\n",
    "plot_normal_distribution(s, x, pdf, \"blue\", \"red\", title=\"Manually Calculated\")"
   ]
  },
  {
   "cell_type": "markdown",
   "metadata": {},
   "source": [
    "Now, instead of manually calculating the PDF using python and mathematical formula, we can do the same using the scipy.stats.norm.pdf function to compute the probability density function (PDF) of the normal distribution [[37]](https://www.geeksforgeeks.org/how-to-plot-normal-distribution-over-histogram-in-python/). This function is part of the SciPy library [[7]](https://scipy.org/), which offers efficient and reliable statistical functions for working with distributions.\n",
    "\n",
    "`stats.norm.pdf` [[38]](https://docs.scipy.org/doc/scipy/reference/generated/scipy.stats.norm.html) is used to calculate the PDF of a normal distribution for a given range of x values. It takes the following arguments:\n",
    "\n",
    "- x: The points at which the PDF is evaluated.\n",
    "- mu_s: The mean of the distribution.\n",
    "- sigma_s: The standard deviation of the distribution.\n",
    "\n",
    "We can then plot the result using the previously defined **plot_normal_distribution**."
   ]
  },
  {
   "cell_type": "code",
   "execution_count": 27,
   "metadata": {},
   "outputs": [
    {
     "data": {
      "image/png": "[encoded data removed]",
      "text/plain": [
       "<Figure size 1000x500 with 1 Axes>"
      ]
     },
     "metadata": {},
     "output_type": "display_data"
    }
   ],
   "source": [
    "# same with scipsy stat norm pdf function \n",
    "# https://www.geeksforgeeks.org/how-to-plot-normal-distribution-over-histogram-in-python/\n",
    "\n",
    "# Calculate the PDF using scipy's norm function\n",
    "pdf = stats.norm.pdf(x, mu_s, sigma_s)\n",
    "\n",
    "# Call the function to plot\n",
    "plot_normal_distribution(s, x, pdf, \"moccasin\", \"turquoise\", title=\"calculated with scipsy.stats\")\n"
   ]
  },
  {
   "cell_type": "markdown",
   "metadata": {},
   "source": [
    "##### **2.2: Perform the Shapiro-Wilk and Kolmogorov-Smirnov tests for normality** <a class=\"anchor\" id=\"2.2\"></a>\n",
    "\n",
    "------"
   ]
  },
  {
   "cell_type": "markdown",
   "metadata": {},
   "source": [
    "The **Shapiro-Wilk test** [[]](https://builtin.com/data-science/shapiro-wilk-test) is a statistical test used to assess whether a given dataset follows a normal distribution. It is commonly used for small sample sizes.\n",
    "\n",
    "- **Null Hypothesis**: There is no evidence to reject the null hypothesis that the data is normally distributed.\n",
    "- **Alternative Hypothesis**: The data does not follow a normal distribution.\n",
    "\n",
    "The test produces a test statistic and a p-value. If the p-value is below a predefined significance level (often 0.05 [[]](https://community.jmp.com/t5/JMP-Knowledge-Base/How-do-I-interpret-the-Shapiro-Wilk-test-for-normality-in-JMP/ta-p/575365)), we reject the null hypothesis and conclude that the data is not normally distributed.\n",
    "\n",
    "It is important to know that the Shapiro-Wilk test can produce false negatives (i.e., rejecting the null hypothesis when the data is actually normal) or false positives (i.e., failing to reject the null hypothesis when the data is not normal). For this reason, the use of other methods for checking normality, such as visualization techniques (e.g., histograms, Q-Q plots), is always advised.\n",
    "\n",
    "The following code performs the Shapiro-Wilk test on the sample distribution s using the [[] stats.shapiro()](https://docs.scipy.org/doc/scipy/reference/generated/scipy.stats.shapiro.html) function to test for normality. The significance level is set at 0.05, and based on the p-value, the code prints the Shapiro-Wilk test statistic and p-value, followed by a decision on whether to reject or fail to reject the null hypothesis. \n",
    "\n",
    "If the p-value is less than 0.05, the null hypothesis (that the data follows a normal distribution) is rejected; otherwise, the null hypothesis is not rejected, suggesting the data may follow a normal distribution."
   ]
  },
  {
   "cell_type": "code",
   "execution_count": null,
   "metadata": {},
   "outputs": [],
   "source": [
    "# perfom the shapiro test \n",
    "# https://www.statology.org/shapiro-wilk-test-python/\n",
    "\n",
    "# Perform the Shapiro-Wilk test\n",
    "shapiro_stat, p_value = stats.shapiro(s)\n",
    "\n",
    "print(f'Shapiro-Wilk Test Statistic: {shapiro_stat:.4f}')\n",
    "print(f'P-value: {p_value:.4f}')\n",
    "\n",
    "# Interpretation\n",
    "alpha = 0.05  # significance level\n",
    "if p_value < alpha:\n",
    "    print(\"Reject the null hypothesis: the data is not normally distributed.\")\n",
    "else:\n",
    "    print(\"Fail to reject the null hypothesis: the data may be normally distributed.\")"
   ]
  },
  {
   "cell_type": "markdown",
   "metadata": {},
   "source": [
    "As expected, the shapiro test result a p-value of 0.58 failing to reject the null hypotesis."
   ]
  },
  {
   "cell_type": "markdown",
   "metadata": {},
   "source": [
    "Another test that we can use to asses normality is the **Kolmogorov-Smirnov (K-S)test** [[]](https://www.statology.org/kolmogorov-smirnov-test-python/) [[]](https://pyshark.com/test-for-normality-using-python/#kolmogorov-smirnov-test-in-python). It tests whether the sample comes from a normal distribution by comparing the empirical cumulative distribution function (ECDF) of the sample with the cumulative distribution function (CDF) of a normal distribution. \n",
    "\n",
    "A significant p-value (below a threshold like 0.05) indicates that the sample likely does not follow a normal distribution."
   ]
  },
  {
   "cell_type": "markdown",
   "metadata": {},
   "source": [
    "The following code performs the Kolmogorov-Smirnov (K-S) test for normality using [[] stats.kstest](https://docs.scipy.org/doc/scipy/reference/generated/scipy.stats.kstest.html) from the SciPy library. The test compares the sample data (s) to a normal distribution ('norm'), with the mean (mu_s) and standard deviation (sigma_s) as parameters.\n",
    "\n",
    "The significance level is set at 0.05. Based on the p-value, the code prints the test statistic and p-value, and then makes a decision on whether to reject or fail to reject the null hypothesis."
   ]
  },
  {
   "cell_type": "code",
   "execution_count": null,
   "metadata": {},
   "outputs": [],
   "source": [
    "# Perform the Kolmogorov-Smirnov test for normality\n",
    "ks_statistic, p_value = stats.kstest(s, 'norm', args=(mu_s, sigma_s))\n",
    "\n",
    "# Output the results\n",
    "print(f\"KS Statistic: {ks_statistic:.4f}\")\n",
    "print(f\"P-value: {p_value:.4f}\")\n",
    "\n",
    "# Interpretation\n",
    "alpha = 0.05  # significance level\n",
    "if p_value < alpha:\n",
    "    print(\"Reject the null hypothesis: the data is not normally distributed.\")\n",
    "else:\n",
    "    print(\"Fail to reject the null hypothesis: the data may be normally distributed.\")\n"
   ]
  },
  {
   "cell_type": "markdown",
   "metadata": {},
   "source": [
    "### **Task 3: t-Test Calculation** <a class=\"anchor\" id=\"task3\"></a>\n",
    "\n",
    "---"
   ]
  },
  {
   "cell_type": "markdown",
   "metadata": {},
   "source": [
    "**Task assignement**\n",
    "\n",
    ">Consider the following dataset containing resting heart rates for patients before and after embarking on a two-week exercise program.\n",
    ">\n",
    ">Calculate the t-statistic based on this data set, using Python. Compare it to the value given by scipy.stats. Explain your work and list any sources used.\n",
    ">\n",
    ">**Dataset**:\n",
    "\n",
    "| Patient ID | 0  | 1  | 2  | 3  | 4  | 5  | 6  | 7  | 8  | 9  |\n",
    "|------------|----|----|----|----|----|----|----|----|----|----|\n",
    "| **Before** | 63 | 68 | 70 | 64 | 74 | 67 | 70 | 57 | 66 | 65 |\n",
    "| **After**  | 64 | 64 | 68 | 64 | 73 | 70 | 72 | 54 | 61 | 63 |"
   ]
  },
  {
   "cell_type": "markdown",
   "metadata": {},
   "source": [
    "##### **3.1: Dependent T-Test and his assumptions** <a class=\"anchor\" id=\"3.1\"></a>"
   ]
  },
  {
   "cell_type": "markdown",
   "metadata": {},
   "source": [
    "#### <span style=\"color: darkblue;\">Depend T- test - Introduction</span>\n",
    "\n",
    "\n",
    "The provided dataset seems to meet the necessary requirements for conducting a <span style=\"color: darkred;\"> dependent t-test</span>. The Dependent t-Test, also known as the Paired Sample t-Test, is a statistical test used to compare the means of two related groups. It is used when the same subjects are measured twice, or when pairs of subjects are matched in some way. For example, it is often used to compare the scores of a group of individuals before and after some intervention (like a treatment or exercise program) [[]](https://statistics.laerd.com/spss-tutorials/dependent-t-test-using-spss-statistics.php). In this case, we can use the test to compare whether there is a difference in heart rates before and after the exercise program.\n",
    "\n",
    "#### <span style=\"color: darkblue;\">Depend T- test - The assumptions </span>\n",
    "\n",
    "The necessary <span style=\"color: darkred;\"> assumptions</span> [[a]](https://statistics.laerd.com/spss-tutorials/dependent-t-test-using-spss-statistics.php) [](https://www.statology.org/t-test-assumptions) for conducting this test are as follows:\n",
    "\n",
    "1. The dependent variable should be **continuous**.\n",
    "2. The independent variable should consist of two **categorical, \"related groups\" or \"matched pairs\"**.\n",
    "3. There should be **no significant outliers** in the differences between the two related groups.\n",
    "4. The **distribution** of the differences in the dependent variable between the two related groups should be **approximately normal**.\n",
    "\n",
    "Regarding the <span style=\"color: darkred;\"> first two assumptions, it is clear that they are satisfied</span>, as the dataset describes heart rates for the same individuals (matched pairs) both before and after the exercise program.\n",
    "\n",
    "To verify the third and fourth assumptions, we will use visualization techniques along with statistical tests [[]](https://medium.com/@marc.bolle/5-easy-ways-to-detect-outliers-in-python-b07639ba32d5). This combined approach will help us determine whether the assumptions are met and whether a dependent t-test can be conducted to assess whether there are substantial differences in the mean distribution of heart rates before and after the exercise program.\n",
    "\n",
    "#### <span style=\"color: darkblue;\">Depend T- test - How it works </span>\n",
    "\n",
    "The paired t-test tests whether the mean difference between paired observations is significantly different from zero (or any other specified value).\n",
    "\n",
    "As inspired by [machinelearningmaster - how to code the student t test[]](https://machinelearningmastery.com/how-to-code-the-students-t-test-from-scratch-in-python/) [[]](https://www.statology.org/paired-t-test-by-hand/), After that the assumption have been verified, the general steps involve calculating the following:\n",
    "\n",
    "<span style=\"color: darkred;\">1. **The difference for each pair**</span>: \n",
    "\n",
    "For each pair of measurements, calculate the difference between the two values:\n",
    "$$ d_i = x_{i2} - x_{i1} $$\n",
    "\n",
    "Where $d_i$ is the difference for the $i$-th pair, $x_{i2}$ is the second measurement (post-treatment) and $x_{i1}$ is the first measurement (pre-treatment).\n",
    "\n",
    "\n",
    "<span style=\"color: darkred;\">2. The **mean of the differences**</span>\n",
    "\n",
    " Denoted by $\\bar{d}$, defined by the average of all the differences.\n",
    "\n",
    "$$ {d} = \\frac{1}{n} \\sum_{i=1}^{n} d_i =   \\frac{1}{n} \\sum_{i=1}^{n} (x_{i2} - x_{i1})$$\n",
    "\n",
    "Where $n$ is the number of pairs (i.e., the number of differences) and $d_i$ is the difference for the $i$-th pair\n",
    "\n",
    "<span style=\"color: darkred;\">3. The **standard deviation** of the differences, denoted by $s_d$, is calculated.</span>  \n",
    "\n",
    "The standard deviation of the differences measures the variability of the differences between the paired samples.\n",
    "\n",
    "$$ s_d = \\sqrt{\\frac{1}{n-1} \\sum_{i=1}^{n} (d_i - \\bar{d})^2} $$\n",
    "\n",
    "Where $d_i$ is the difference for the $i$-th pair, $\\bar{d}$ is the mean difference and $n$ is the number of pairs.\n",
    "\n",
    "<span style=\"color: darkred;\">4. Calculate the **t-Statistic**.</span>\n",
    "\n",
    "Now, we can calculate the t-statistic, which tells us how far the sample mean difference is from zero in units of the standard error:\n",
    "\n",
    "$$t = \\frac{\\bar{d}}{s_d / \\sqrt{n}}$$\n",
    "\n",
    "Where $\\bar{d}$ is the mean difference, $s_d$ is the standard deviation of the differences between the paired observations and $n$ is the number of pairs..\n",
    "\n",
    "<span style=\"color: darkred;\">5. Calculate the **Degrees of Freedom (df)**</span> \n",
    "\n",
    "The degrees of freedom for a paired t-test is given by the number of pairs minus one [[]](https://www.scribbr.com/statistics/degrees-of-freedom/) [[]](https://www.statology.org/calculate-degrees-of-freedom-for-t-test/):\n",
    "$$ \\text{df} = n - 1$$\n",
    "where $n$ is the number of paired observations.\n",
    "\n",
    "<span style=\"color: darkred;\">6.  Define the **Critical Value** (cv)</span>\n",
    "\n",
    "The critical value is a threshold used in hypothesis testing to determine whether the test statistic (in this case, the t-statistic) is significantly different from the null hypothesis, given a specified significance level $\\alpha$.\n",
    "\n",
    "The formula for the critical value is:\n",
    "$${cv} = t_{\\alpha/2, \\, \\text{df}}$$\n",
    "\n",
    "Where $\\alpha$ is the significance level and ${df}$ is the degrees of freedom.\n",
    "\n",
    "The critical value can be find using a [t-distribution table []](https://www.statology.org/paired-t-test-by-hand/) [[]](https://www.statology.org/t-distribution-table/) [[]](https://www.statisticshowto.com/probability-and-statistics/find-critical-values/t-critical-value/) for a defined α and df.\n",
    "\n",
    "Alternatively, it can be calculated in Python using the `scipy` library [[a]](https://machinelearningmastery.com/how-to-code-the-students-t-test-from-scratch-in-python/) as follow:\n",
    "\n",
    "```python\n",
    "from scipy.stats import t\n",
    "cv = t.ppf(1.0 - alpha, df)\n",
    "```\n",
    "\n",
    "<span style=\"color: darkred;\">7. Define the **p-value** (Optional as the critical value can be udes to make a decision).</span>\n",
    "\n",
    "The p-value is the probability of observing a t-statistic at least as extreme as the one calculated, under the assumption that the null hypothesis is true. You can find the p-value either using a t-distribution table [[as explained here []](https://www.statology.org/how-to-calculate-a-p-value-from-a-t-test-by-hand/) or using statistical software. \n",
    "\n",
    "In python it can be find using the scipsy library [[a]](https://machinelearningmastery.com/how-to-code-the-students-t-test-from-scratch-in-python/) as follow:\n",
    "```python\n",
    "import scipy.stats as stats\n",
    "# Example t-statistic and degrees of freedom\n",
    "t_statistic = 10.95\n",
    "df = 4  \n",
    "\n",
    "#calculate the p value\n",
    "p_value = 2 * (1 - stats.t.cdf(abs(t_statistic), df))\n",
    "```\n",
    "<span style=\"color: darkred;\">9. **Making a decision**.</span>\n",
    "\n",
    "Using the <span style=\"color: darkred;\">Critical Value </span>: we compare the absolute value of the test statistic (|t|) to the critical value (cv). \n",
    "- If |t| > cv, we reject the null hypothesis. The null hypothesis suggests there is no difference between the two paired groups (i.e., the mean difference is 0).\n",
    "\n",
    "Using the <span style=\"color: darkred;\">P-Value </span>: we compare the P-value to the significance level (α).\n",
    "- If the P-value ≤ α, we reject the null hypothesis.\n",
    "\n"
   ]
  },
  {
   "cell_type": "markdown",
   "metadata": {},
   "source": [
    "#### <span style=\"color: darkblue;\">Import the needed libraries and creating the dataframe</span>\n",
    "\n",
    "However, as first step we need to import the needed libraries and create a Pandas DataFrame [[]](https://www.geeksforgeeks.org/creating-a-pandas-dataframe/) [[]](https://pandas.pydata.org/pandas-docs/stable/reference/api/pandas.DataFrame.from_dict.html), to store the heart rates of patients before and after a two-week exercise program."
   ]
  },
  {
   "cell_type": "markdown",
   "metadata": {},
   "source": [
    "##### **3.2: Visualizing Data to Check Normality and Identify Outliers Using Histograms, Box Plots, Violin Plots, and Scatter Plots** <a class=\"anchor\" id=\"3.2\"></a>"
   ]
  },
  {
   "cell_type": "markdown",
   "metadata": {},
   "source": [
    "As first step we need to import the needed libraries and create a Pandas DataFrame [[]](https://www.geeksforgeeks.org/creating-a-pandas-dataframe/) [[]](https://pandas.pydata.org/pandas-docs/stable/reference/api/pandas.DataFrame.from_dict.html), to store the heart rates of patients before and after a two-week exercise program."
   ]
  },
  {
   "cell_type": "code",
   "execution_count": null,
   "metadata": {},
   "outputs": [],
   "source": [
    "# Importing numpy for numerical operations\n",
    "# Reference: https://numpy.org/doc/stable/\n",
    "import numpy as np\n",
    "\n",
    "# Importing scipy.stats for statistical functions\n",
    "# Reference: https://docs.scipy.org/doc/scipy/reference/stats.html\n",
    "from scipy import stats\n",
    "\n",
    "# Importing seaborn for advanced statistical data visualization\n",
    "# Reference: https://seaborn.pydata.org/\n",
    "import seaborn as sns\n",
    "\n",
    "# Importing matplotlib.pyplot for general-purpose plotting\n",
    "# Reference: https://matplotlib.org/stable/contents.html\n",
    "import matplotlib.pyplot as plt\n",
    "\n",
    "# Importing pandas for data manipulation and analysis\n",
    "# Reference: https://pandas.pydata.org/pandas-docs/stable/\n",
    "import pandas as pd\n",
    "\n",
    "# Importing the Shapiro-Wilk test \n",
    "# Reference: https://docs.scipy.org/doc/scipy/reference/generated/scipy.stats.shapiro.html\n",
    "from scipy.stats import shapiro\n",
    "\n",
    "# Importing sqrt function from math module for square root calculation\n",
    "# Reference: https://docs.python.org/3/library/math.html\n",
    "from math import sqrt"
   ]
  },
  {
   "cell_type": "code",
   "execution_count": null,
   "metadata": {},
   "outputs": [],
   "source": [
    "# Create a pandas dataframe containing the dataset\n",
    "# https://www.geeksforgeeks.org/creating-a-pandas-dataframe/\n",
    "\n",
    "\n",
    "# Create a dictionary with the data\n",
    "data = {\n",
    "    'Patient ID': [0, 1, 2, 3, 4, 5, 6, 7, 8, 9], \n",
    "    'Before': [63, 68, 70, 64, 74, 67, 70, 57, 66, 65], # Heart rates before the program\n",
    "    'After': [64, 64, 68, 64, 73, 70, 72, 54, 61, 63] # Heart rates after the program\n",
    "}\n",
    "\n",
    "# Create a DataFrame from the dictionary\n",
    "# https://pandas.pydata.org/pandas-docs/stable/reference/api/pandas.DataFrame.from_dict.html\n",
    "df_heart_rate = pd.DataFrame(data)\n",
    "\n",
    "# Display the dataset\n",
    "print(df_heart_rate)"
   ]
  },
  {
   "cell_type": "markdown",
   "metadata": {},
   "source": [
    "To better understand the distribution of two features in the dataset - **heart rate before** and **heart rate after** the exercise program - and determine if a dependent t-test can be executed, we can visualize their distributions using **histograms**. Histograms provide a way to observe the frequency distribution of data, and plotting both \"before\" and \"after\" heart rates allows us to visually compare the two distributions.\n",
    "\n",
    "The following code achieves this using the `sns.histplot()` function [[]](https://seaborn.pydata.org/generated/seaborn.histplot.html), with the optional inclusion of a Kernel Density Estimate (KDE) curve [[]](https://docs.kanaries.net/topics/Seaborn/seaborn-displot) to provide a smoother representation of the data distribution for easier comparison.\n",
    "\n",
    "Specifically, the `plt.subplots()` function creates a figure with three subplots [[]](https://stackoverflow.com/questions/66730387/multiple-histograms-on-same-graph-with-seaborn-displot-not-distplot), which include individual histograms for the \"before\" and \"after\" heart rates, as well as an overlapping histogram for direct comparison [[]](https://datavizpyr.com/overlapping-histograms-with-matplotlib-in-python/)."
   ]
  },
  {
   "cell_type": "code",
   "execution_count": null,
   "metadata": {},
   "outputs": [],
   "source": [
    "# Create histograms for heart rates before and after an exercise program.\n",
    "\n",
    "# Set up the figure with 3 subplots in one row and adjust the figure size\n",
    "# Ref 1: https://stackoverflow.com/questions/66730387/multiple-histograms-on-same-graph-with-seaborn-displot-not-distplot\n",
    "fig, axs = plt.subplots(1, 3, figsize=(18, 6))\n",
    "\n",
    "# Set the title for the entire figure\n",
    "plt.suptitle('Heart Rates Before and After Exercise Program', fontsize=16)\n",
    "\n",
    "# Plot 1: Histogram of heart rates before exercise\n",
    "# Ref. 3: https://seaborn.pydata.org/generated/seaborn.histplot.html\n",
    "# Ref. 4: https://docs.kanaries.net/topics/Seaborn/seaborn-displot\n",
    "sns.histplot(df_heart_rate['Before'], kde=True, color='skyblue', bins=8, ax=axs[0], edgecolor='black')  # KDE for smoother curve\n",
    "# Ref. 2: https://seaborn.pydata.org/generated/seaborn.histplot.html\n",
    "axs[0].set_title('Heart Rates Before Exercise', fontsize=14)  # Title for the individual plot\n",
    "axs[0].set_xlabel('Heart Rate')  # X-axis label for the plot\n",
    "axs[0].set_ylabel('Frequency')  # Y-axis label for the plot\n",
    "\n",
    "# Plot 2: Histogram of heart rates after exercise\n",
    "sns.histplot(df_heart_rate['After'], kde=True, color='salmon', bins=8, ax=axs[1], edgecolor='black')  # KDE for smoother curve\n",
    "axs[1].set_title('Heart Rates After Exercise', fontsize=14)  \n",
    "axs[1].set_xlabel('Heart Rate')  \n",
    "axs[1].set_ylabel('Frequency')  #\n",
    "\n",
    "# Plot 3: Overlapping histogram (before and after)\n",
    "# Ref. 4: https://datavizpyr.com/overlapping-histograms-with-matplotlib-in-python/\n",
    "sns.histplot(df_heart_rate['Before'], kde=True, color='skyblue', bins=8, ax=axs[2], label='Before', edgecolor='black') \n",
    "sns.histplot(df_heart_rate['After'], kde=True, color='salmon', bins=8, ax=axs[2], label='After', edgecolor='black')  \n",
    "axs[2].set_title('Comparison of Before and After Exercise', fontsize=14)  # Title for the individual plot\n",
    "axs[2].set_xlabel('Heart Rate')  # X-axis label for the plot\n",
    "axs[2].set_ylabel('Frequency')  # Y-axis label for the plot\n",
    "axs[2].legend()  # Add a legend to differentiate the plots\n",
    "\n",
    "# Adjust the layout to prevent overlapping of elements\n",
    "plt.tight_layout(rect=[0, 0, 1, 0.96])  # Adjust to leave space for the main title\n",
    "\n",
    "# Show the plot\n",
    "plt.show()"
   ]
  },
  {
   "cell_type": "markdown",
   "metadata": {},
   "source": [
    "\n",
    "**Histograms observations**\n",
    "\n",
    ">As seen in the previous graphs, the distributions appear similar. However, visual inspection alone is insufficient to determine if the distributions are truly identical or if there is a significant difference between the means of the two groups. Both distributions appear to be normally distributed and similar in shape. In conclusion, based on the histograms, there is no evidence to reject the null hypothesis that the two distributions have similar means."
   ]
  },
  {
   "cell_type": "markdown",
   "metadata": {},
   "source": [
    "Other ways to check if two features are equal and they have outliners are <span style=\"color: darkred;\"> using strip plots, violin plots, and box plots</span>:\n",
    "\n",
    "1. **Strip Plot**: Displays individual data points [[]](https://pieriantraining.com/understanding-the-seaborm-stripplot-in-python/).\n",
    "2. **Violin Plot**: Shows the distribution and density of data. It is similar to a box plot, with the addition of a rotated kernel density plot on each side [[]](https://en.wikipedia.org/wiki/Violin_plot).\n",
    "3. **Box Plot**: Summarizes the distribution through quartiles and medians, making it easy to compare central tendency and spread between features [[]](https://en.wikipedia.org/wiki/Box_plot).\n",
    "\n",
    "This plots can help identify if the means of the two populations are equal by visually comparing their distributions. If the means are truly equal, we would expect the central tendency of the distributions to overlap or be very close to each other. However, if there is a significant difference between the means, the distributions will show a noticeable shift. \n",
    "\n",
    "Additionally, these plots are useful for **detecting outliers**. Outliers are data points that fall far from the rest of the data, and they can distort the results of statistical analyses. In box plots, for example, outliers are often shown as points outside the \"whiskers\" of the box.\n",
    "\n",
    "I norder to create this graphs, the two features (before and after the exercise program) are first organized into a list format to facilitate visualization, as inspired by [ianmcloughlin_applied_statistics_04_t_test []](https://github.com/ianmcloughlin/2425_applied_statistics/blob/main/04_t_tests.ipynb)."
   ]
  },
  {
   "cell_type": "code",
   "execution_count": null,
   "metadata": {},
   "outputs": [],
   "source": [
    "# Create a list of the data\n",
    "data = [df_heart_rate['Before'], df_heart_rate['After']]"
   ]
  },
  {
   "cell_type": "markdown",
   "metadata": {},
   "source": [
    "The following code, then, generates a 2x2 grid of subplots to visualize heart rates before and after an exercise program. First, it separately displays a strip plot [[]](https://datagy.io/seaborn-stripplot/), a box plot [[]](https://seaborn.pydata.org/generated/seaborn.boxplot.html) and a violin plot [[]](https://seaborn.pydata.org/generated/seaborn.violinplot.html) for each group (before and after the program). Finally, it overlays all three plots (strip, box, and violin) in a single graph to provide a better comparison of the distributions and central tendencies of the two groups."
   ]
  },
  {
   "cell_type": "code",
   "execution_count": null,
   "metadata": {},
   "outputs": [],
   "source": [
    "# Create box plot, violin plot, and scatter plot of the data and overlapping them for a better comparison \n",
    "\n",
    "# Set up the figure with 2x2 grid of subplots and adjust the figure size\n",
    "# https://matplotlib.org/stable/users/explain/axes/axes_intro.html\n",
    "fig, axs = plt.subplots(2, 2, figsize=(12, 8))  # Creates a 2x2 grid of subplots with a figure size of 12x12 inches\n",
    "\n",
    "# Set the title for the entire figure\n",
    "plt.suptitle('Heart Rates Before and After Exercise Program', fontsize=16)  # Adds a title for the whole figure\n",
    "\n",
    "# Plot 1: Strip plot\n",
    "# https://datagy.io/seaborn-stripplot/\n",
    "sns.stripplot(data=data, palette='Blues', ax=axs[0, 0])  # Creates a strip plot using the 'Blues' color palette for the data\n",
    "axs[0, 0].set_title('Strip Plot', fontsize=12)  \n",
    "axs[0, 0].set_ylabel('Heart Rate') \n",
    "axs[0, 0].set_xticks([0, 1])  # Set tick positions on the x-axis at 0 and 1\n",
    "axs[0, 0].set_xticklabels(['Before', 'After'])  # Set custom labels for the x-axis ticks\n",
    "\n",
    "# Plot 2: Box plot\n",
    "# https://seaborn.pydata.org/generated/seaborn.boxplot.html\n",
    "sns.boxplot(data=data, palette='Set2', ax=axs[0, 1])  # Creates a box plot with 'Set2' color palette for the data\n",
    "axs[0, 1].set_title('Box Plot', fontsize=12)  \n",
    "axs[0, 1].set_ylabel('Heart Rate')  \n",
    "axs[0, 1].set_xticks([0, 1])  \n",
    "axs[0, 1].set_xticklabels(['Before', 'After'])  \n",
    "\n",
    "# Plot 3: Violin plot\n",
    "sns.violinplot(data=data, palette='RdBu', ax=axs[1, 0])  # Creates a violin plot with the 'RdBu' color palette\n",
    "axs[1, 0].set_title('Violin Plot', fontsize=12)  \n",
    "axs[1, 0].set_ylabel('Heart Rate')  \n",
    "axs[1, 0].set_xticks([0, 1])  \n",
    "axs[1, 0].set_xticklabels(['Before', 'After'])  \n",
    "\n",
    "# Plot 4: Combined Violin, Box, and Strip Plot\n",
    "# This plot combines all three types (Violin, Box, and Strip) for comparison\n",
    "sns.violinplot(data=data, palette='Blues', ax=axs[1, 1], inner=None, alpha=0.5)  \n",
    "sns.boxplot(data=data, palette='Set2', ax=axs[1, 1], \n",
    "            boxprops=dict(alpha=0.4))  \n",
    "sns.stripplot(data=data, ax=axs[1, 1], color='black', alpha=0.6)  # Black color for a better visualization\n",
    "axs[1, 1].set_title('Violin + Box + Strip Plot', fontsize=12)  # Title for the combined plot\n",
    "axs[1, 1].set_ylabel('Heart Rate')  \n",
    "axs[1, 1].set_xticks([0, 1])\n",
    "axs[1, 1].set_xticklabels(['Before', 'After'])  \n",
    "\n",
    "# Adjust the layout to prevent overlapping of elements and leave space for the main title\n",
    "# https://stackoverflow.com/questions/66442402/matplotlib-with-fig-text-cropped\n",
    "# https://datagy.io/seaborn-stripplot/\n",
    "plt.tight_layout(rect=[0, 0, 1, 0.96])  # Adjust the layout to prevent overlapping and leave space for the title\n",
    "\n",
    "# Show the plot\n",
    "plt.show()"
   ]
  },
  {
   "cell_type": "markdown",
   "metadata": {},
   "source": [
    "**Box Plots, Violin Plots and Strip Plots observations**\n",
    "\n",
    ">Again, based on the plots above, the distributions appear similar. In addition, no outliers are identified. Therefore, there is no evidence to reject the null hypothesis that there is no significant difference between the means of the two related groups. The distributions appear to meet the assumptions required, and thus, the data qualifies to perform a dependent t-test."
   ]
  },
  {
   "cell_type": "markdown",
   "metadata": {},
   "source": [
    "##### **3.3: Outliers check using using IQR** <a class=\"anchor\" id=\"3.3\"></a>\n",
    "\n",
    "In addition to the above visualization techniques, the presence or absence of outliers can also be identified using statistical tests.\n",
    "\n",
    "A typical statistical test used to identify outliers is the **Interquartile Range (IQR)** [[]](https://careerfoundry.com/en/blog/data-analytics/how-to-find-outliers/) [[a]](https://medium.com/@marc.bolle/5-easy-ways-to-detect-outliers-in-python-b07639ba32d5) [[]](https://www.geeksforgeeks.org/detect-and-remove-the-outliers-using-python/). The IQR is a measure of statistical dispersion that represents the range within which the central 50% of a dataset falls. It is calculated as the difference between the third quartile (Q3) and the first quartile (Q1).\n",
    "\n",
    "By capturing the spread of the middle 50% of the data, the IQR helps define the \"core\" distribution of the dataset, making it useful for identifying outliers—values that fall outside the range:\n",
    "\n",
    "$$Q_1 - 1.5 \\times \\text{IQR} \\quad \\text{(Lower Bound) and} \\quad Q_3 + 1.5 \\times \\text{IQR} \\quad \\text{(Upper Bound)}$$\n",
    "\n"
   ]
  },
  {
   "cell_type": "markdown",
   "metadata": {},
   "source": [
    "In order to check for outliers using the Interquartile Range (IQR), we first define a function `find_outliers(data_list)`. This function identifies outliers in a given dataset by calculating the first quartile (Q1) and third quartile (Q3) to determine the Interquartile Range (IQR). It then uses the IQR to calculate the lower and upper bounds. Any data points outside these bounds are considered outliers and are returned along with the calculated lower and upper bounds.\n",
    "\n",
    "The code has been inspired by [[]](https://www.geeksforgeeks.org/detect-and-remove-the-outliers-using-python/)."
   ]
  },
  {
   "cell_type": "code",
   "execution_count": null,
   "metadata": {},
   "outputs": [],
   "source": [
    "# Function to detect outliers using the Interquartile Range (IQR)\n",
    "# Ref: https://www.geeksforgeeks.org/detect-and-remove-the-outliers-using-python/\n",
    "\n",
    "def find_outliers(data_list):\n",
    "    # Calculate the first quartile (Q1) \n",
    "    Q1 = np.percentile(data_list, 25)\n",
    "    \n",
    "    # Calculate the third quartile (Q3) \n",
    "    Q3 = np.percentile(data_list, 75)\n",
    "    \n",
    "    # Calculate the Interquartile Range (IQR) as the difference between Q3 and Q1\n",
    "    IQR = Q3 - Q1\n",
    "    \n",
    "    # Calculate the lower bound for outliers\n",
    "    lower_bound = Q1 - 1.5 * IQR\n",
    "    \n",
    "    # Calculate the upper bound for outliers\n",
    "    upper_bound = Q3 + 1.5 * IQR\n",
    "    \n",
    "    # Identify the outliers by checking if values in data_list are outside the lower or upper bounds\n",
    "    outliers = [x for x in data_list if x < lower_bound or x > upper_bound]\n",
    "    \n",
    "    # Return the list of outliers, the lower bound, and the upper bound\n",
    "    return outliers, lower_bound, upper_bound"
   ]
  },
  {
   "cell_type": "markdown",
   "metadata": {},
   "source": [
    "We can then use the function on the `df_heart_rate['Before']` and `df_heart_rate['After']` columns to check for outliers and print the relevant results."
   ]
  },
  {
   "cell_type": "code",
   "execution_count": null,
   "metadata": {},
   "outputs": [],
   "source": [
    "# Find outliers for 'Before' and 'After' heart rates\n",
    "before_outliers, before_lower, before_upper = find_outliers(df_heart_rate['Before'])\n",
    "after_outliers, after_lower, after_upper = find_outliers(df_heart_rate['After'])\n",
    "\n",
    "# Print the results\n",
    "print(\"Before heart rate data:\")\n",
    "print(f\"Lower bound: {before_lower}\")\n",
    "print(f\"Upper bound: {before_upper}\")\n",
    "print(f\"Outliers: {before_outliers}\")\n",
    "\n",
    "print(\"\\nAfter heart rate data:\")\n",
    "print(f\"Lower bound: {after_lower}\")\n",
    "print(f\"Upper bound: {after_upper}\")\n",
    "print(f\"Outliers: {after_outliers}\")\n"
   ]
  },
  {
   "cell_type": "markdown",
   "metadata": {},
   "source": [
    "As we can see, **no outliers** have been identified through the IQR test. Together with the previous visualizations of the two groups using histograms, boxplots, violin plots, and strip plots, we can conclude that **the distributions satisfy the third assumption of no outliers**, allowing us to proceed with conducting a dependent test."
   ]
  },
  {
   "cell_type": "markdown",
   "metadata": {},
   "source": [
    "##### **3.4: Testing for Normality of the Differences Between Related Groups with visualization techniques and a shapiro test** <a class=\"anchor\" id=\"3.4\"></a>"
   ]
  },
  {
   "cell_type": "markdown",
   "metadata": {},
   "source": [
    "The final condition for conducting a dependent samples t-test on the data is that <span style=\"color: darkred;\"> the distribution of the differences</span> in the dependent variable between the two related groups should be <span style=\"color: darkred;\"> approximately normal</span>.\n",
    "\n",
    "To check this, we first define a new variable representing the differences between the two groups. We can then assess the normality of these differences using visualization techniques, such as <span style=\"color: darkred;\"> histograms and QQ plots</span>. If there is no evidence to reject the null hypothesis that the differences are normally distributed, we can further confirm normality with the Shapiro-Wilk test.\n",
    "\n",
    "As a first step, we calculate the difference between the two columns in the DataFrame (`df_heart_rate`) and store the result in a new column called `'Difference'`."
   ]
  },
  {
   "cell_type": "code",
   "execution_count": null,
   "metadata": {},
   "outputs": [],
   "source": [
    "# Assuming df_heart_rate is your DataFrame\n",
    "df_heart_rate['Difference'] = df_heart_rate['After'] - df_heart_rate['Before']"
   ]
  },
  {
   "cell_type": "markdown",
   "metadata": {},
   "source": [
    "We can now visualize the distribution of the 'Difference' using a QQ plot and a histogram. The code for the QQ plot is inspired by [ianmcloughlin_applied_statistics_03_normal []](https://github.com/ianmcloughlin/2425_applied_statistics/blob/main/03_normal.ipynb). For the histogram, we'll use the histplot function from the Seaborn library, with the kde argument set to True. This will overlay a kernel density estimate (KDE) curve on the histogram to help with interpretation and provide a smoother view of the distribution."
   ]
  },
  {
   "cell_type": "code",
   "execution_count": null,
   "metadata": {},
   "outputs": [],
   "source": [
    "# Assuming df_heart_rate is your DataFrame and 'Difference' is a column\n",
    "fig, axs = plt.subplots(1, 2, figsize=(10, 5))\n",
    "\n",
    "# Create the first plot (Q-Q plot)\n",
    "# https://github.com/ianmcloughlin/2425_applied_statistics/blob/main/03_normal.ipynb\n",
    "stats.probplot(df_heart_rate['Difference'], dist='norm', plot=axs[0])\n",
    "axs[0].set_title('QQ Plot')\n",
    "\n",
    "# Create the second plot (Histogram with KDE)\n",
    "sns.histplot(df_heart_rate['Difference'], kde=True, color='skyblue', bins=8, edgecolor='black', ax=axs[1])\n",
    "axs[1].set_title('Histogram')\n",
    "\n",
    "plt.tight_layout()\n",
    "plt.show()"
   ]
  },
  {
   "cell_type": "markdown",
   "metadata": {},
   "source": [
    "Based on the QQ plot and the histogram, **there is no evidence to suggest that the 'Difference' is not normally distributed**.\n",
    "\n",
    "Since the visualizations do not indicate a departure from normality, we can proceed by performing the **Shapiro-Wilk test** to formally confirm the normality of the distribution. We can use the `shapiro()` function from the *scipy.stats* library to conduct this test."
   ]
  },
  {
   "cell_type": "code",
   "execution_count": null,
   "metadata": {},
   "outputs": [],
   "source": [
    "# Perform Shapiro-Wilk test for normality\n",
    "from scipy.stats import shapiro\n",
    "\n",
    "stat, p_value = shapiro(df_heart_rate['Difference'])\n",
    "print(f\"Shapiro-Wilk Test Statistic: {stat}, p-value: {p_value}\")\n",
    "\n",
    "# Check if the p-value is greater than the significance level (e.g., 0.05)\n",
    "if p_value > 0.05:\n",
    "    print(\"The differences are approximately normally distributed (fail to reject the null hypotesis).\")\n",
    "else:\n",
    "    print(\"The differences are not normally distributed (reject the null hypotesis).\")"
   ]
  },
  {
   "cell_type": "markdown",
   "metadata": {},
   "source": [
    "As we can see, also the shapiro-wilk test confirm that there are no evidence to reject the null hypotesis as data normally distributed."
   ]
  },
  {
   "cell_type": "markdown",
   "metadata": {},
   "source": [
    "##### **3.4: Manually calculating the t-statistic in python** <a class=\"anchor\" id=\"3.5\"></a>\n",
    "\n",
    "As required by the task, now that we have demonstrated that the data meets the assumptions required for the paired-samples t-test, we can now proceed with performing the test to calculate the t-statistic.\n",
    "\n",
    "As explained in section 3.1: *\"Dependent T-Test and Its Assumptions\"* of the present work, the t-statistic formula is:\n",
    "\n",
    "$$\n",
    "t = \\frac{\\bar{d}}{s_d / \\sqrt{n}}\n",
    "$$\n",
    "\n",
    "Where:\n",
    "- $\\bar{d}$ = Mean of the differences between paired observations (i.e., $d_i = X_i - Y_i$ for each pair),\n",
    "- $s_d$ = Standard deviation of the differences between paired observations,\n",
    "- $n$ = Number of paired observations.\n",
    "\n",
    "In the following code, inspired by [How to Code the Student’s t-Test from Scratch in Python []](https://machinelearningmastery.com/how-to-code-the-students-t-test-from-scratch-in-python/), the dependent t-test is manually executed in Python using the above formula to calculate the t-statistic. The code then continues to calculate the critical value and p-value using the `scipy` library."
   ]
  },
  {
   "cell_type": "code",
   "execution_count": null,
   "metadata": {},
   "outputs": [],
   "source": [
    "# function to perform the depend t test \n",
    "# Ref: https://machinelearningmastery.com/how-to-code-the-students-t-test-from-scratch-in-python/\n",
    "def dependent_ttest(data1, data2, alpha):\n",
    "    # calculate the differences between paired observations\n",
    "    differences = [data1[i] - data2[i] for i in range(len(data1))]\n",
    "    # calculate mean of the differences\n",
    "    mean_d = sum(differences) / len(differences)\n",
    "    # calculate standard deviation of the differences\n",
    "    sum_squared_diff = sum([(d - mean_d) ** 2 for d in differences])\n",
    "    sd = sqrt(sum_squared_diff / (len(differences) - 1)) \n",
    "    # standard error of the difference between means\n",
    "    sed = sd / sqrt(len(differences))\n",
    "    # calculate the t statistic\n",
    "    t_stat = mean_d / sed\n",
    "    # degrees of freedom\n",
    "    df = len(differences) - 1\n",
    "    # calculate the critical value\n",
    "    cv = t.ppf(1.0 - alpha, df)\n",
    "    # calculate the p-value\n",
    "    p = (1.0 - t.cdf(abs(t_stat), df)) * 2.0\n",
    "    # Print results \n",
    "    print(\"=== T-statistic manually in python ===\")\n",
    "    print(\"\")\n",
    "    print(f\"T-Statistic: {t_stat:.4f}\")\n",
    "    print(f\"Critical Value (cv) at alpha={alpha}: {cv:.4f}\")\n",
    "    print(f\"P-Value: {p:.4f}\")\n",
    "    print(\"\")\n",
    "    \n",
    "\t# Interpretation of p-value\n",
    "    if p < 0.05:\n",
    "        print(\"There is a statistically significant difference between the 'Before' and 'After' heart rates.\")\n",
    "    else:\n",
    "        print(\"There is no statistically significant difference between the 'Before' and 'After' heart rates.\")\n",
    "\n",
    "\n",
    "dependent_ttest(df_heart_rate['Before'],df_heart_rate['After'], 0.05)"
   ]
  },
  {
   "cell_type": "markdown",
   "metadata": {},
   "source": [
    "##### **3.5: Perform the paired-samples t-test with scipsy** <a class=\"anchor\" id=\"3.5\"></a>\n",
    "\n",
    "Finally, we can perform the paired-samples t-test using the `scipy` library and compare the value of the t-statistic to the one previously manually calculated in Python.\n",
    "\n",
    "**Null hypothesis**: There is no significant difference between the means of the two related groups. \n",
    "\n",
    "The following code performs the paired t-test using the `ttest_rel()` function from the [[]]](https://docs.scipy.org/doc/scipy/reference/generated/scipy.stats.ttest_rel.html#scipy.stats.ttest_rel). The key results for this test are the **t-statistic** and the **p-value**. \n",
    "\n",
    "Regarding the decision to reject the null hypothesis or not:\n",
    "- If the p-value is greater than 0.05, we fail to reject the null hypothesis, meaning there is no significant difference between the two groups.\n",
    "- Conversely, if the p-value is less than or equal to 0.05, we reject the null hypothesis, suggesting a significant difference exists."
   ]
  },
  {
   "cell_type": "code",
   "execution_count": null,
   "metadata": {},
   "outputs": [],
   "source": [
    "# Performing a paired t-test to compare heart rate measurements 'Before' and 'After' an intervention\n",
    "# https://docs.scipy.org/doc/scipy/reference/generated/scipy.stats.ttest_rel.html#scipy.stats.ttest_rel\n",
    "\n",
    "t_stat, p_value = stats.ttest_rel(df_heart_rate['Before'], df_heart_rate['After'])\n",
    "\n",
    "# Print a descriptive header and the t-statistic and p-value in a readable format\n",
    "print(\"=== T-statistic and P-value calculated through ttest_rel from scipy ===\")\n",
    "print(\"\")\n",
    "print(f\"T-statistic: {t_stat:.4f}\")\n",
    "print(f\"P-value: {p_value:.4f}\")\n",
    "print(\"\")\n",
    "\n",
    "# Interpretation of p-value\n",
    "if p_value < 0.05:\n",
    "    print(\"There is a statistically significant difference between the 'Before' and 'After' heart rates.\")\n",
    "else:\n",
    "    print(\"There is no statistically significant difference between the 'Before' and 'After' heart rates.\")"
   ]
  },
  {
   "cell_type": "markdown",
   "metadata": {},
   "source": [
    "As we can see, the-value is >0.05 suggesting that the null hypotesis that there is no is no significant difference between the means of the two related groups cannot be rejected."
   ]
  },
  {
   "cell_type": "markdown",
   "metadata": {},
   "source": [
    "##### **3.6: Conclusion** <a class=\"anchor\" id=\"3.6\"></a>\n",
    "\n",
    "As per the above calculations, both the **t-statistic** calculated manually through Python and the one calculated using the `scipy.ttest_rel()` function **are equal to 1.3372**. This confirms that the manual calculation is indeed accurate.\n",
    "\n",
    "Regarding the p-value of 0.2140, it indicates that the **null hypothesis cannot be rejected.** This means there is no significant difference between the means of the two related groups, `df_heart_rate['Before']` and `df_heart_rate['After']`"
   ]
  },
  {
   "cell_type": "markdown",
   "metadata": {},
   "source": [
    "### **Task 4: One-way ANOVA test** <a class=\"anchor\" id=\"task4\"></a>\n",
    "\n",
    "---"
   ]
  },
  {
   "cell_type": "markdown",
   "metadata": {},
   "source": [
    "**Task assignement**\n",
    "\n",
    ">In this test we will estimate the probability of committing a type II error in specific circumstances. To begin, create a variable called no_type_ii and set it to 0.\n",
    ">Now use a loop to perform the following test 10,000 times.\n",
    ">\n",
    ">1. Use numpy.random.normal to generate three samples with 100 values each. Give each a standard deviation of 0.1. Give the first sample a mean of 4.9, the second a mean of 5.0, and the third a mean of 5.1.\n",
    ">2. Perform one-way anova on the three samples and add 1 to no_type_ii whenever a type II error occurs.\n",
    ">\n",
    ">Summarize and explain your results."
   ]
  },
  {
   "cell_type": "markdown",
   "metadata": {},
   "source": [
    "#### **4.1: The ANOVA one-way test:introduction** <a class=\"anchor\" id=\"4.1\"></a>\n",
    "\n",
    "#### <span style=\"color: darkblue;\">What it is and assumptions</span>\n",
    "\n",
    "The one-way analysis of variance [(ANOVA) []](https://statistics.laerd.com/spss-tutorials/one-way-anova-using-spss-statistics.php) [[]](https://stats.libretexts.org/Bookshelves/Applied_Statistics/Statistics_for_Research_Students_(Fein%2C_Gilmour%2C_Machin%2C_and_Liam_Hendry)/06%3A_Comparing_Three_or_More_Group_Means/6.02%3A_One-Way_ANOVA_Assumptions_Interpretation_and_Write_Up) is a statistical method used to determine if there are statistically significant differences between the means of two or more independent groups. While it can technically be applied to two groups, it is most commonly used when comparing three or more groups.\n",
    "\n",
    "The one-way ANOVA is an <span style=\"color: darkred;\">omnibus</span> test statistic used to evaluate whether there are statistically significant differences among group means. While it indicates if at least two group means differ, it does not specify which groups are significantly different. To identify these differences, post hoc tests are necessary, as they provide detailed pairwise comparisons.\n",
    "\n",
    "For a one-way ANOVA to yield valid results, **six assumptions** must be met. These assumptions ensure the test's reliability and accuracy.\n",
    "\n",
    "1. **Assumption 1**: <span style=\"color: darkred;\">Dependent Variable Measuremen</span>. The dependent variable must be measured at the interval or ratio level, meaning it should be continuous. Examples of valid dependent variables include weight measured in kilograms.\n",
    "\n",
    "2. **Assumption 2** <span style=\"color: darkred;\">Independent Variable Structure</span>. The independent variable should consist of two or more categorical, independent groups. For instance, groups could represent different gender.ethnicities (e.g., Female and male).\n",
    "\n",
    "3. **Assumption 3**: <span style=\"color: darkred;\">Independence of Observation</span>. The observations in each group must be independent of one another, meaning there should be no relationship between participants in different groups. Each participant should belong to only one group.\n",
    "\n",
    "4. **Assumption 4**: <span style=\"color: darkred;\">No Significant Outliers</span>. Outliers are data points that significantly deviate from the typical pattern in the data. For instance, in a study measuring daily hours spent on exercise among students (with a mean of 5 hours), a student reporting 20 hours would be considered an outlier. Such a value could skew the results, making it appear that exercise has a greater impact than it actually does. \n",
    "\n",
    "5. **Assumption 5**: <span style=\"color: darkred;\">Normal Distribution</span>. The dependent variable should be approximately normally distributed for each group. \n",
    "\n",
    "6. **Assumption 6**: <span style=\"color: darkred;\">Homogeneity of Variances</span>. Also known as homoscedasticity, is an assumption that the variability (or spread) of scores in each group being compared is roughly equal. In other words, the variance (a measure of how spread out the scores are) should be similar across all groups. This assumption is important because one-way ANOVA is sensitive to unequal variances. When the variances are not equal, the results of the ANOVA test may not be valid, potentially leading to inaccurate conclusions\n",
    "\n",
    "\n",
    "#### <span style=\"color: darkblue;\">How One-Way ANOVA test works</span>\n",
    "\n",
    "The one-way **ANOVA** test works by comparing the variance (variability) within groups and between groups to determine if there are statistically significant differences in means [[]](https://www.statology.org/one-way-anova-by-hand/) [[]](https://www.cuemath.com/anova-formula/) [[]](https://medium.com/@Currie32/statistical-stories-anova-analysis-of-variance-0c924744c058) [[]](https://testbook.com/maths-formulas/anova-formula).\n",
    "\n",
    "1. **State Hypotheses**:\n",
    "   -  Null Hypothesis (H₀): All group means are equal.\n",
    "   - A lternative Hypothesis (H₁): At least one group mean is different\n",
    "\n",
    "2. **Calculate the Group Means**:  \n",
    "   First, the mean of each group is calculated. These group means represent the average value of the dependent variable (e.g., test scores, weight) within each group (e.g., different treatments or categories).\n",
    "\n",
    "3. **Calculate Total Variance (SST)**:  \n",
    "   The overall mean is the average of all data points combined, regardless of which group they belong to. The total variance in the data is calculated by finding the sum of squared differences between each data point and the overall mean of all data points combined.\n",
    "\n",
    "5. **Calculate Between-Group Variance (SSB)**:  \n",
    "   This measures how much the group means differ from the overall mean. If the group means are far apart from the overall mean, this suggests that the groups are different from each other.\n",
    "\n",
    "6. **Calculate Within-Group Variance (SSW)**:  \n",
    "   This measures the variability of data points within each group, essentially looking at how much individual data points deviate from their respective group means. If the data points within groups are highly spread out, the within-group variance will be large.\n",
    "\n",
    "7. **F-statistic Calculation**:  \n",
    "   The F-statistic is the ratio of the between-group variance to the within-group variance:\n",
    "\n",
    "   $ F = \\frac{MSB}{MSW} $\n",
    "\n",
    "   where: $ MSB = \\frac{SSB}{df_{\\text{between}}} = \\frac{\\sum n_j (\\bar{X}_j - \\bar{X})^2}{df_{\\text{between}}} $\n",
    "\n",
    "   and $ MSW = \\frac{SSW}{df_{\\text{within}}} = \\frac{\\sum \\sum (X_{ij} - \\bar{X}_j)^2}{df_{\\text{within}}}$\n",
    "   \n",
    "\n",
    "8. **Degrees of Freedom**:  \n",
    "The F-statistic is adjusted using degrees of freedom, which represent the number of independent values used in the calculation:\n",
    "\n",
    "   Degrees of Freedom:\n",
    "\n",
    "   $ df_{\\text{between}} = k - 1 \\quad \\text{(where } k \\text{ is the number of groups)} $\n",
    "   \n",
    "   $ df_{\\text{within}} = N - k \\quad \\text{(where } N \\text{ is the total number of observations)} $\n",
    "\n",
    "9. **Comparison to Critical Value**:  \n",
    "   The calculated F-statistic is compared to a critical value from the F-distribution table based on the degrees of freedom. If the calculated F-statistic exceeds the critical value, it indicates that the differences between the group means are statistically significant.\n",
    "\n",
    "9. **P-value**:  \n",
    "   Alternatively, the p-value associated with the F-statistic can be used. If the p-value is smaller than the chosen significance level (usually 0.05), we reject the null hypothesis. This suggests that there is a statistically significant difference between the group means.\n",
    "\n",
    "10. **Post-Hoc Tests**:  \n",
    "   If the ANOVA result is significant (i.e., we reject the null hypothesis), post-hoc tests (such as Tukey's HSD) are needed to determine which specific groups differ from one another. These tests perform pairwise comparisons and control for the overall error rate when testing multiple group differences."
   ]
  },
  {
   "cell_type": "markdown",
   "metadata": {},
   "source": [
    "<div style=\"text-align:center;\">\n",
    " <img src=\"image/one-way-ANOVA-formulas.png\" width=\"700\">\n",
    "</div>\n",
    "\n",
    "<div style=\"text-align:center;\">\n",
    "  <a href=\"https://testbook.com/maths-formulas/anova-formula\"><i>[Fig. 1] - Anova Formula</i></a>\n",
    "</div>"
   ]
  },
  {
   "cell_type": "markdown",
   "metadata": {},
   "source": [
    "#### **4.2: Task Execution - Checking Type II Errors in a One-Way ANOVA Test Repeated 10,000 Times** <a class=\"anchor\" id=\"4.1\"></a>\n",
    "\n",
    "#### <span style=\"color: darkblue;\">Introduction to task</span>\n",
    "\n",
    "In this Task, we will simulate the process of generating three samples, each with slightly different means (4.9, 5.0, and 5.1) and the same standard deviation (0.1), and perform a one-way ANOVA test 10,000 times.\n",
    "\n",
    "Although the means of the three groups (4.9, 5.0, and 5.1) are very close, with only a 0.2-unit difference between the smallest and largest mean, and the standard deviation is relatively small (0.1), we expect the ANOVA test to detect a significant difference. This is because even small differences in means, when combined with a sufficiently large sample size, are often detectable in statistical tests.\n",
    "\n",
    "The primary objective of this simulation is to calculate the frequency of Type II errors when performing an ANOVA one-way test. A Type II error occurs when the test fails to reject the null hypothesis, even though a real difference between the groups exists [[]](https://www.scribbr.com/statistics/type-i-and-type-ii-errors/).\n",
    "\n",
    "**Null Hypothesis (H₀)**: There is no difference between the means of the three groups (i.e., their means are equal).\n",
    "\n",
    "#### <span style=\"color: darkblue;\"> Type II error and significant level α</span>\n",
    "\n",
    "We assume a <span style=\"color: darkred;\">significance level (alpha, α) of 0.05</span>, which means we are willing to accept a 5% chance of incorrectly rejecting the null hypothesis when it is actually true (a Type I error). If the p-value from the ANOVA test is smaller than 0.05, we reject the null hypothesis and conclude that at least one of the group means is significantly different. If the p-value is greater than 0.05, we fail to reject the null hypothesis, implying that there is no significant difference between the groups means.\n",
    "\n",
    "Given the small differences in the means (4.9, 5.0, and 5.1), we expect the test to reject the null hypothesis most of the time. However, due to random variation in the sample generation process, it is possible that the ANOVA test might occasionally fail to detect a significant difference, even though the means are indeed different. This failure to reject the null hypothesis in such cases would constitute a <span style=\"color: darkred;\">Type II error</span>.\n",
    "\n"
   ]
  },
  {
   "cell_type": "markdown",
   "metadata": {},
   "source": [
    "<div style=\"text-align:center;\">\n",
    " <img src=\"image\\type-i-and-ii-error-2.png\" width=\"700\">\n",
    "</div>\n",
    "\n",
    "<div style=\"text-align:center;\">\n",
    "  <a href=\"https://www.scribbr.com/statistics/type-i-and-type-ii-errors/\"><i>[Fig. 2] - Type I and Type II Error </i></a>\n",
    "</div>"
   ]
  },
  {
   "cell_type": "markdown",
   "metadata": {},
   "source": [
    "#### <span style=\"color: darkblue;\"> Objective of the Simulation</span>\n",
    "\n",
    "Our goal is to <span style=\"color: darkred;\">measure how frequently Type II errors occur</span>. Specifically, we want to calculate the percentage of times a one-way ANOVA test fails to reject the null hypothesis, despite the fact that the samples are generated from distributions with different means.\n",
    "\n",
    "In other words, we are generating samples from distributions with different means, so we expect the ANOVA to reject the null hypothesis and identify a significant difference. If the ANOVA test fails to reject the null hypothesis—implying no difference between the means when there actually is one—this would result in a Type II error."
   ]
  },
  {
   "cell_type": "markdown",
   "metadata": {},
   "source": [
    "#### <span style=\"color: darkblue;\">Check the assumption to perform the ANOVA test</span>\n",
    "\n",
    "As previously explained, the one-way ANOVA test has <span style=\"color: darkred;\">6 assumptions</span>. However, since the three distributions will be normally generated with predefined parameters, we can assume that all six assumptions are met.\n",
    "\n",
    "- **Assumption 1**: The generated variable will be continuous, as it comes from normal distributions.\n",
    "- **Assumption 2**: The independent variable will consist of three categorical groups, each representing a distribution separately and independently generated from the others.\n",
    "- **Assumption 3**: Observations will be independent, as each distribution is generated separately.\n",
    "- **Assumption 4**: There will be no significant outliers, as the standard deviation is set to 0.1.\n",
    "- **Assumption 5**: The distributions will be normal, as `np.random.normal` is used to generate them.\n",
    "- **Assumption 6**: Finally, there will be homogeneity of variances, as all distributions have the same standard deviation."
   ]
  },
  {
   "cell_type": "markdown",
   "metadata": {},
   "source": [
    "#### <span style=\"color: darkblue;\">Execution of the experiment</span>\n",
    "\n",
    "As usual, we start importing the needed libraried."
   ]
  },
  {
   "cell_type": "code",
   "execution_count": null,
   "metadata": {},
   "outputs": [],
   "source": [
    "# Import necessary libraries for statistical analysis and numerical operations\n",
    "\n",
    "import numpy as np  # NumPy for numerical operations and generating random samples\n",
    "from scipy import stats  # SciPy for statistical tests (e.g., ANOVA)"
   ]
  },
  {
   "cell_type": "markdown",
   "metadata": {},
   "source": [
    "#### <span style=\"color: darkblue;\">Execution of the experiment</span>\n",
    "\n",
    "As per the task requirements, we first initialize a variable to count Type II errors and set it to 0. Additionally, we define an empty list to store the p-values from each ANOVA iteration."
   ]
  },
  {
   "cell_type": "code",
   "execution_count": null,
   "metadata": {},
   "outputs": [],
   "source": [
    "# Initialize the variable to count Type II errors\n",
    "no_type_ii = 0  \n",
    "\n",
    "# Initialize an empty list to store p-values from each iteration\n",
    "p_value_list = []  "
   ]
  },
  {
   "cell_type": "markdown",
   "metadata": {},
   "source": [
    "We can now define the parameters to be used in the upcoming for loop. Specifically, we will set the means for generating the random normal distributions for each sample, a common standard deviation for all three distributions, the number of observations in each sample, the total number of iterations required for the simulation, and the significance level at which the null hypothesis will be rejected."
   ]
  },
  {
   "cell_type": "code",
   "execution_count": null,
   "metadata": {},
   "outputs": [],
   "source": [
    "# Parameters for the simulation\n",
    "mean_1, mean_2, mean_3 = 4.9, 5.0, 5.1  # Means of the three distributions\n",
    "std_dev = 0.1  # Standard deviation\n",
    "sample_size = 100 # Number of observations \n",
    "iterations = 10000  # Number of iterations for the simulation\n",
    "alpha = 0.05  # Significance level for the ANOVA test"
   ]
  },
  {
   "cell_type": "markdown",
   "metadata": {},
   "source": [
    "In the following code, a loop runs for <span style=\"color: darkred;\">10,000 iterations</span>. In each iteration:\n",
    "\n",
    "1. **Three random samples** (sample_1, sample_2, sample_3) are generated using `np.random.normal()` with different predefined means (4.9, 5.0, and 5.1) and the same standard deviation (0.1). The samples are generated with small but real differences in their means.\n",
    "\n",
    "2. A **one-way ANOVA test** is performed on the three samples to check if there is a significant difference in their means. Since the samples were generated with different means, the correct output is that the null hypothesis should be rejected.\n",
    "\n",
    "3. The **p-value** from the ANOVA test is stored in the list `p_value_list`.\n",
    "\n",
    "4. The **p-value** is compared to a significance level of <span style=\"color: darkred;\">α = 0.05</span>. If the p-value is greater than 0.05, the code fails to reject the null hypothesis (H₀), which suggests that the group means are equal. If this happens, the code increments the <span style=\"color: darkred;\">Type II error counter</span> (`no_type_ii`) because failing to reject the null hypothesis when there is a true difference in means constitutes a <span style=\"color: darkred;\">Type II error</span>.\n",
    "\n",
    "After all iterations, the code calculates the <span style=\"color: darkred;\">probability of committing a Type II error</span> as the ratio of Type II errors to total iterations (`no_type_ii / iterations`). It also define the <span style=\"color: darkred;\">maximum</span>, and <span style=\"color: darkred;\">minimum p-values</span> across all iterations.\n",
    "\n",
    "Finally, the results are printed. Form more clarity the max and the min of the p_value are printed in [scientific notation []](https://datagy.io/python-scientific-notation/)."
   ]
  },
  {
   "cell_type": "code",
   "execution_count": null,
   "metadata": {},
   "outputs": [],
   "source": [
    "# Run the loop for the number of iterations\n",
    "for _ in range(iterations):\n",
    "    # Generate three samples with specified means and standard deviation\n",
    "    sample_1 = np.random.normal(mean_1, std_dev, sample_size)\n",
    "    sample_2 = np.random.normal(mean_2, std_dev, sample_size)\n",
    "    sample_3 = np.random.normal(mean_3, std_dev, sample_size)\n",
    "    \n",
    "    # Perform one-way ANOVA to test\n",
    "    f_statistic, p_value = stats.f_oneway(sample_1, sample_2, sample_3)\n",
    "    \n",
    "    # Store the p-value in the list for later analysis\n",
    "    p_value_list.append(p_value)\n",
    "    \n",
    "    # Check for Type II error: if the p-value is greater than alpha, we fail to reject the null hypothesis\n",
    "    if p_value > alpha:\n",
    "        no_type_ii += 1  # Increment the Type II error counter\n",
    "\n",
    "# Estimate the probability of committing a Type II error\n",
    "probability_type_ii = no_type_ii / iterations  # Proportion of times we fail to reject the null hypothesis\n",
    "\n",
    "# Calculate maximum and minimum p-values from the list\n",
    "# https://datagy.io/python-scientific-notation/\n",
    "max_p_value = np.max(p_value_list)\n",
    "min_p_value = np.min(p_value_list)\n",
    "\n",
    "# Print the results\n",
    "print(f\"==== Number of type II error in {iterations} iterations ====\")\n",
    "print(f\"\\nnOut of {iterations} iterations, a Type II error occurred {no_type_ii} times.\")\n",
    "print(f\"This gives an estimated probability of committing a Type II error of {probability_type_ii * 100:.2f}%.\")\n",
    "print(f\"\\n ==== Min and Max of p_value in {iterations} iterations ==== \")\n",
    "print(f\"\\nMaximum p-value across all iterations: {max_p_value:.10e}\")\n",
    "print(f\"Minimum p-value across all iterations: {min_p_value:.10e}\")"
   ]
  },
  {
   "cell_type": "markdown",
   "metadata": {},
   "source": [
    "#### **4.3: Conclusion** <a class=\"anchor\" id=\"4.3\"></a>\n",
    "\n",
    "\n",
    "In this experiment, we ran 10,000 iterations of a one-way ANOVA test on three random samples generated with slightly different means (4.9, 5.0, and 5.1) and a constant standard deviation of 0.1. The goal was to estimate the frequency of Type II errors, where the test fails to reject the null hypothesis even when there is a true difference between the group means.\n",
    "\n",
    "**Key findings from the experiment**:\n",
    "\n",
    "1. <span style=\"color: darkred;\">No Type II Errors</span>: Out of 10,000 iterations, no Type II errors occurred. This indicates that in every instance, the ANOVA test successfully rejected the null hypothesis and identified a difference between the means, even though the means were only slightly different (0.1 to 0.2 units apart). This suggests that the test was sufficiently powerful to detect small differences with the given sample size and setup.\n",
    "2. <span style=\"color: darkred;\">The maximum p-value</span> observed across all iterations was approximately <span style=\"color: darkred;\">extremely small</span>, indicating that in the worst case, the test showed a very strong indication of a difference (rejecting the null hypothesis with high confidence).\n",
    "3. <span style=\"color: darkred;\">Test Sensitivity</span>: The absence of Type II errors suggests that the ANOVA test was quite sensitive in detecting differences between the groups, even with the small 0.1 to 0.2 unit difference in means. The observed p-values, ranging from very small to extremely small, further demonstrate that the test is able to distinguish between the groups with high precision."
   ]
  },
  {
   "cell_type": "markdown",
   "metadata": {},
   "source": [
    "\n",
    "-\t[1] [math — Mathematical functions]( https://docs.python.org/3/library/math.html)\n",
    "-\t[2] [itertools — Functions creating iterators for efficient looping]( https://docs.python.org/3/library/itertools.html)\n",
    "-\t[3] [random — Generate pseudo-random numbers](https://docs.python.org/3/library/random.html)\n",
    "-\t[4] [NumPy reference]( https://numpy.org/doc/stable/reference/index.html#reference)\n",
    "-\t[5] [Using Matplotlib]( https://matplotlib.org/stable/users/index.html)\n",
    "-\t[6] [python-tabulate](https://pypi.org/project/tabulate/)\n",
    "-\t[7] [Statistical functions](https://docs.scipy.org/doc/scipy/reference/stats.html)\n",
    "-\t[8] [statsmodels](https://www.statsmodels.org/)\n",
    "-\t[9] [seaborn](https://seaborn.pydata.org/)\n",
    "-\t[10] [pandas documentation](https://pandas.pydata.org/pandas-docs/stable/)\n",
    "-\t[11] [shapiro](https://docs.scipy.org/doc/scipy/reference/generated/scipy.stats.shapiro.html)\n",
    "-\t[12] [How a tea-tasting test led to a breakthrough in statistics]( https://www.irishtimes.com/news/science/how-a-tea-tasting-test-led-to-a-breakthrough-in-statistics-1.3998786)\n",
    "-\t[13] [Lady tasting tea](https://en.wikipedia.org/wiki/Lady_tasting_tea)\n",
    "-\t[14] [math.comb(n, k)](https://docs.python.org/3/library/math.html#math.comb)\n",
    "-\t[15] [Python range() Function](https://www.w3schools.com/python/ref_func_range.asp)\n",
    "-\t[16] [random.sample(population, k, *, counts=None)](https://docs.python.org/3/library/random.html#random.sample)\n",
    "-\t[17] [Python List sort() Method](https://www.w3schools.com/python/ref_list_sort.asp)\n",
    "-\t[18] [Sets](https://docs.python.org/3/tutorial/datastructures.html#sets)\n",
    "-\t[19] [ianmcloughlin_2425_applied_statistics]( https://github.com/ianmcloughlin/2425_applied_statistics/blob/main/02_lady_tasting_tea.ipynb)\n",
    "-\t[20] [https://docs.python.org/3/library/itertools.html](https://docs.python.org/3/library/itertools.html)\n",
    "-\t[21] [Python Set intersection() Method](https://www.w3schools.com/python/ref_set_intersection.asp)\n",
    "-\t[22] [numpy.unique]( https://numpy.org/doc/2.0/reference/generated/numpy.unique.html)\n",
    "-\t[23] [How To Annotate Bars in Barplot with Matplotlib](https://how2matplotlib.com/how-to-annotate-bars-in-barplot-with-matplotlib.html)\n",
    "-\t[24] [Python reversed() Function](https://www.w3schools.com/python/ref_func_reversed.asp)\n",
    "-\t[25] [tabulate](https://pypi.org/project/tabulate/)\n",
    "-\t[26] [Printing Lists as Tabular Data in Python](https://www.geeksforgeeks.org/printing-lists-as-tabular-data-in-python/)\n",
    "-\t[27] [Type I & Type II Errors | Differences, Examples, Visualizations](https://www.scribbr.com/statistics/type-i-and-type-ii-errors/)\n"
   ]
  },
  {
   "cell_type": "markdown",
   "metadata": {},
   "source": []
  }
 ],
 "metadata": {
  "kernelspec": {
   "display_name": "base",
   "language": "python",
   "name": "python3"
  },
  "language_info": {
   "codemirror_mode": {
    "name": "ipython",
    "version": 3
   },
   "file_extension": ".py",
   "mimetype": "text/x-python",
   "name": "python",
   "nbconvert_exporter": "python",
   "pygments_lexer": "ipython3",
   "version": "3.12.5"
  }
 },
 "nbformat": 4,
 "nbformat_minor": 4
}
